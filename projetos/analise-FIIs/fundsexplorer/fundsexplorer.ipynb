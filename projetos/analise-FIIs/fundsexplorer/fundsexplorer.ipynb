{
 "cells": [
  {
   "cell_type": "code",
   "execution_count": 25,
   "id": "c1f79216-d45e-471b-98d1-e49c25851e89",
   "metadata": {},
   "outputs": [],
   "source": [
    "# Realizando as importações das bibliotecas necessárias\n",
    "import pandas as pd # Para o tratamento de dados\n",
    "import numpy as np # Para o tratamento de dados\n",
    "import cfscrape # Para realizar a requisição na raspagem de dad\n",
    "import requests"
   ]
  },
  {
   "cell_type": "code",
   "execution_count": 26,
   "id": "acd65f49-4400-44ca-bd84-645783523212",
   "metadata": {},
   "outputs": [],
   "source": [
    "url = \"https://www.fundsexplorer.com.br/ranking\""
   ]
  },
  {
   "cell_type": "code",
   "execution_count": 27,
   "id": "3164afa0-e8f4-4616-8cc1-dc52ce43b37d",
   "metadata": {},
   "outputs": [],
   "source": [
    "from selenium import webdriver\n",
    "from selenium.webdriver.common.by import By\n",
    "\n",
    "# Inicializa o navegador\n",
    "driver = webdriver.Chrome()  # Certifique-se de ter o ChromeDriver instalado\n",
    "\n",
    "\n",
    "# Abre a página no navegador\n",
    "driver.get(url)\n",
    "\n",
    "# Abre a página no navegador\n",
    "driver.get(url)\n",
    "\n",
    "# Encontra a tabela pelo seu seletor CSS ou XPath\n",
    "tabela_element = driver.find_element(By.CSS_SELECTOR, 'table')\n",
    "\n",
    "# Obtém o código HTML da tabela\n",
    "codigo_html = tabela_element.get_attribute('outerHTML')\n",
    "\n",
    "# Imprime o código HTML da tabela\n",
    "# print(codigo_html)\n",
    "\n",
    "# Fecha o navegador\n",
    "driver.quit()\n"
   ]
  },
  {
   "cell_type": "code",
   "execution_count": 28,
   "id": "b9386a48-79ea-4bd1-8bed-e0691dfd365d",
   "metadata": {},
   "outputs": [],
   "source": [
    "# Lendo a tabela HTML como um dataframe do Pandas\n",
    "\n",
    "# O código gera uma lista das tabelas encontradas no HTML, sendo as tabelas representadas como dataframes\n",
    "# basta indicar o índice da tabela para acessá-la\n",
    "dt = pd.read_html(codigo_html)[0]"
   ]
  },
  {
   "cell_type": "code",
   "execution_count": 60,
   "id": "e8b12a38-f6a6-43b8-b5ef-67cf1efc05f4",
   "metadata": {},
   "outputs": [],
   "source": [
    "# Criando um cópia do dataset original para o tratamento de dados\n",
    "dt_test = dt.copy()"
   ]
  },
  {
   "cell_type": "code",
   "execution_count": 61,
   "id": "6672c6cb-04d4-4d13-8d6c-84f8ed0ab32b",
   "metadata": {},
   "outputs": [
    {
     "data": {
      "text/html": [
       "<div>\n",
       "<style scoped>\n",
       "    .dataframe tbody tr th:only-of-type {\n",
       "        vertical-align: middle;\n",
       "    }\n",
       "\n",
       "    .dataframe tbody tr th {\n",
       "        vertical-align: top;\n",
       "    }\n",
       "\n",
       "    .dataframe thead th {\n",
       "        text-align: right;\n",
       "    }\n",
       "</style>\n",
       "<table border=\"1\" class=\"dataframe\">\n",
       "  <thead>\n",
       "    <tr style=\"text-align: right;\">\n",
       "      <th></th>\n",
       "      <th>Fundos</th>\n",
       "      <th>Setor</th>\n",
       "      <th>Preço Atual (R$)</th>\n",
       "      <th>Liquidez Diária (R$)</th>\n",
       "      <th>P/VP</th>\n",
       "      <th>Último Dividendo</th>\n",
       "      <th>Dividend Yield</th>\n",
       "      <th>DY (3M) Acumulado</th>\n",
       "      <th>DY (6M) Acumulado</th>\n",
       "      <th>DY (12M) Acumulado</th>\n",
       "      <th>...</th>\n",
       "      <th>Patrimônio Líquido</th>\n",
       "      <th>VPA</th>\n",
       "      <th>P/VPA</th>\n",
       "      <th>DY Patrimonial</th>\n",
       "      <th>Variação Patrimonial</th>\n",
       "      <th>Rentab. Patr. Período</th>\n",
       "      <th>Rentab. Patr. Acumulada</th>\n",
       "      <th>Vacância Física</th>\n",
       "      <th>Vacância Financeira</th>\n",
       "      <th>Quant. Ativos</th>\n",
       "    </tr>\n",
       "  </thead>\n",
       "  <tbody>\n",
       "    <tr>\n",
       "      <th>0</th>\n",
       "      <td>AAZQ11</td>\n",
       "      <td>Indefinido</td>\n",
       "      <td>935</td>\n",
       "      <td>815.428,21</td>\n",
       "      <td>101</td>\n",
       "      <td>012</td>\n",
       "      <td>1,28 %</td>\n",
       "      <td>3,66 %</td>\n",
       "      <td>7,98 %</td>\n",
       "      <td>9,54 %</td>\n",
       "      <td>...</td>\n",
       "      <td>230.646.828,88</td>\n",
       "      <td>960</td>\n",
       "      <td>97.0</td>\n",
       "      <td>1,46 %</td>\n",
       "      <td>0,00 %</td>\n",
       "      <td>0,00 %</td>\n",
       "      <td>0,00 %</td>\n",
       "      <td>NaN</td>\n",
       "      <td>NaN</td>\n",
       "      <td>0</td>\n",
       "    </tr>\n",
       "    <tr>\n",
       "      <th>1</th>\n",
       "      <td>ABCP11</td>\n",
       "      <td>Shoppings</td>\n",
       "      <td>7225</td>\n",
       "      <td>48.644,67</td>\n",
       "      <td>079</td>\n",
       "      <td>050</td>\n",
       "      <td>0,70 %</td>\n",
       "      <td>2,12 %</td>\n",
       "      <td>4,39 %</td>\n",
       "      <td>8,89 %</td>\n",
       "      <td>...</td>\n",
       "      <td>432.162.687,00</td>\n",
       "      <td>9182</td>\n",
       "      <td>79.0</td>\n",
       "      <td>0,65 %</td>\n",
       "      <td>-0,18 %</td>\n",
       "      <td>0,47 %</td>\n",
       "      <td>7,12 %</td>\n",
       "      <td>NaN</td>\n",
       "      <td>NaN</td>\n",
       "      <td>1</td>\n",
       "    </tr>\n",
       "    <tr>\n",
       "      <th>2</th>\n",
       "      <td>AFHI11</td>\n",
       "      <td>Papéis</td>\n",
       "      <td>9680</td>\n",
       "      <td>1.578.741,03</td>\n",
       "      <td>101</td>\n",
       "      <td>105</td>\n",
       "      <td>1,07 %</td>\n",
       "      <td>3,30 %</td>\n",
       "      <td>6,75 %</td>\n",
       "      <td>13,08 %</td>\n",
       "      <td>...</td>\n",
       "      <td>290.388.018,85</td>\n",
       "      <td>9482</td>\n",
       "      <td>102.0</td>\n",
       "      <td>1,01 %</td>\n",
       "      <td>-0,94 %</td>\n",
       "      <td>0,06 %</td>\n",
       "      <td>5,00 %</td>\n",
       "      <td>NaN</td>\n",
       "      <td>NaN</td>\n",
       "      <td>0</td>\n",
       "    </tr>\n",
       "    <tr>\n",
       "      <th>3</th>\n",
       "      <td>AGRX11</td>\n",
       "      <td>Outros</td>\n",
       "      <td>1058</td>\n",
       "      <td>362.002,67</td>\n",
       "      <td>NaN</td>\n",
       "      <td>012</td>\n",
       "      <td>1,08 %</td>\n",
       "      <td>4,19 %</td>\n",
       "      <td>8,99 %</td>\n",
       "      <td>15,78 %</td>\n",
       "      <td>...</td>\n",
       "      <td>NaN</td>\n",
       "      <td>NaN</td>\n",
       "      <td>NaN</td>\n",
       "      <td>NaN</td>\n",
       "      <td>NaN</td>\n",
       "      <td>NaN</td>\n",
       "      <td>NaN</td>\n",
       "      <td>NaN</td>\n",
       "      <td>NaN</td>\n",
       "      <td>0</td>\n",
       "    </tr>\n",
       "    <tr>\n",
       "      <th>4</th>\n",
       "      <td>AIEC11</td>\n",
       "      <td>Lajes Corporativas</td>\n",
       "      <td>7179</td>\n",
       "      <td>659.991,79</td>\n",
       "      <td>076</td>\n",
       "      <td>076</td>\n",
       "      <td>1,06 %</td>\n",
       "      <td>3,37 %</td>\n",
       "      <td>7,10 %</td>\n",
       "      <td>13,13 %</td>\n",
       "      <td>...</td>\n",
       "      <td>456.469.305,49</td>\n",
       "      <td>10256</td>\n",
       "      <td>70.0</td>\n",
       "      <td>0,73 %</td>\n",
       "      <td>0,24 %</td>\n",
       "      <td>0,98 %</td>\n",
       "      <td>9,40 %</td>\n",
       "      <td>NaN</td>\n",
       "      <td>NaN</td>\n",
       "      <td>2</td>\n",
       "    </tr>\n",
       "  </tbody>\n",
       "</table>\n",
       "<p>5 rows × 27 columns</p>\n",
       "</div>"
      ],
      "text/plain": [
       "   Fundos               Setor Preço Atual (R$) Liquidez Diária (R$) P/VP  \\\n",
       "0  AAZQ11          Indefinido              935           815.428,21  101   \n",
       "1  ABCP11           Shoppings             7225            48.644,67  079   \n",
       "2  AFHI11              Papéis             9680         1.578.741,03  101   \n",
       "3  AGRX11              Outros             1058           362.002,67  NaN   \n",
       "4  AIEC11  Lajes Corporativas             7179           659.991,79  076   \n",
       "\n",
       "  Último Dividendo Dividend Yield DY (3M) Acumulado DY (6M) Acumulado  \\\n",
       "0              012         1,28 %            3,66 %            7,98 %   \n",
       "1              050         0,70 %            2,12 %            4,39 %   \n",
       "2              105         1,07 %            3,30 %            6,75 %   \n",
       "3              012         1,08 %            4,19 %            8,99 %   \n",
       "4              076         1,06 %            3,37 %            7,10 %   \n",
       "\n",
       "  DY (12M) Acumulado  ... Patrimônio Líquido    VPA  P/VPA DY Patrimonial  \\\n",
       "0             9,54 %  ...     230.646.828,88    960   97.0         1,46 %   \n",
       "1             8,89 %  ...     432.162.687,00   9182   79.0         0,65 %   \n",
       "2            13,08 %  ...     290.388.018,85   9482  102.0         1,01 %   \n",
       "3            15,78 %  ...                NaN    NaN    NaN            NaN   \n",
       "4            13,13 %  ...     456.469.305,49  10256   70.0         0,73 %   \n",
       "\n",
       "  Variação Patrimonial Rentab. Patr. Período Rentab. Patr. Acumulada  \\\n",
       "0               0,00 %                0,00 %                  0,00 %   \n",
       "1              -0,18 %                0,47 %                  7,12 %   \n",
       "2              -0,94 %                0,06 %                  5,00 %   \n",
       "3                  NaN                   NaN                     NaN   \n",
       "4               0,24 %                0,98 %                  9,40 %   \n",
       "\n",
       "  Vacância Física Vacância Financeira  Quant. Ativos  \n",
       "0             NaN                 NaN              0  \n",
       "1             NaN                 NaN              1  \n",
       "2             NaN                 NaN              0  \n",
       "3             NaN                 NaN              0  \n",
       "4             NaN                 NaN              2  \n",
       "\n",
       "[5 rows x 27 columns]"
      ]
     },
     "execution_count": 61,
     "metadata": {},
     "output_type": "execute_result"
    }
   ],
   "source": [
    "# Visualizando os dados do dataset\n",
    "dt_test.head()"
   ]
  },
  {
   "cell_type": "code",
   "execution_count": 62,
   "id": "964bbc88-dfff-49ef-b215-d90cacd398a6",
   "metadata": {},
   "outputs": [
    {
     "name": "stdout",
     "output_type": "stream",
     "text": [
      "<class 'pandas.core.frame.DataFrame'>\n",
      "RangeIndex: 390 entries, 0 to 389\n",
      "Data columns (total 27 columns):\n",
      " #   Column                   Non-Null Count  Dtype  \n",
      "---  ------                   --------------  -----  \n",
      " 0   Fundos                   390 non-null    object \n",
      " 1   Setor                    390 non-null    object \n",
      " 2   Preço Atual (R$)         363 non-null    object \n",
      " 3   Liquidez Diária (R$)     353 non-null    object \n",
      " 4   P/VP                     345 non-null    object \n",
      " 5   Último Dividendo         390 non-null    object \n",
      " 6   Dividend Yield           372 non-null    object \n",
      " 7   DY (3M) Acumulado        372 non-null    object \n",
      " 8   DY (6M) Acumulado        372 non-null    object \n",
      " 9   DY (12M) Acumulado       372 non-null    object \n",
      " 10  DY (3M) média            372 non-null    object \n",
      " 11  DY (6M) média            372 non-null    object \n",
      " 12  DY (12M) média           372 non-null    object \n",
      " 13  DY Ano                   371 non-null    object \n",
      " 14  Variação Preço           372 non-null    object \n",
      " 15  Rentab. Período          372 non-null    object \n",
      " 16  Rentab. Acumulada        286 non-null    object \n",
      " 17  Patrimônio Líquido       367 non-null    object \n",
      " 18  VPA                      297 non-null    object \n",
      " 19  P/VPA                    290 non-null    float64\n",
      " 20  DY Patrimonial           297 non-null    object \n",
      " 21  Variação Patrimonial     297 non-null    object \n",
      " 22  Rentab. Patr. Período    297 non-null    object \n",
      " 23  Rentab. Patr. Acumulada  297 non-null    object \n",
      " 24  Vacância Física          0 non-null      float64\n",
      " 25  Vacância Financeira      0 non-null      float64\n",
      " 26  Quant. Ativos            390 non-null    int64  \n",
      "dtypes: float64(3), int64(1), object(23)\n",
      "memory usage: 82.4+ KB\n"
     ]
    }
   ],
   "source": [
    "# Observando as informações dos dados do Dataframe para identificar as limpezas necessárias\n",
    "dt_test.info()"
   ]
  },
  {
   "cell_type": "code",
   "execution_count": 63,
   "id": "6c0f7747-588d-446c-95c9-10d0626d5754",
   "metadata": {},
   "outputs": [
    {
     "data": {
      "text/plain": [
       "Index(['Fundos', 'Setor', 'Preço Atual (R$)', 'Liquidez Diária (R$)', 'P/VP',\n",
       "       'Último Dividendo', 'Dividend Yield', 'DY (3M) Acumulado',\n",
       "       'DY (6M) Acumulado', 'DY (12M) Acumulado', 'DY (3M) média',\n",
       "       'DY (6M) média', 'DY (12M) média', 'DY Ano', 'Variação Preço',\n",
       "       'Rentab. Período', 'Rentab. Acumulada', 'Patrimônio Líquido', 'VPA',\n",
       "       'P/VPA', 'DY Patrimonial', 'Variação Patrimonial',\n",
       "       'Rentab. Patr. Período', 'Rentab. Patr. Acumulada', 'Vacância Física',\n",
       "       'Vacância Financeira', 'Quant. Ativos'],\n",
       "      dtype='object')"
      ]
     },
     "execution_count": 63,
     "metadata": {},
     "output_type": "execute_result"
    }
   ],
   "source": [
    "# Visualizando o nome das colunas\n",
    "dt_test.columns"
   ]
  },
  {
   "cell_type": "code",
   "execution_count": 64,
   "id": "19c85a51-b28f-4ef8-8522-ace133e7466d",
   "metadata": {},
   "outputs": [],
   "source": [
    "# Removendo colunas não desejáveis\n",
    "dt_test.drop(columns=['DY (3M) Acumulado', 'DY (6M) Acumulado', 'DY (3M) média', 'DY (6M) média'], inplace=True)"
   ]
  },
  {
   "cell_type": "code",
   "execution_count": 65,
   "id": "a85a6264-56db-4586-b2aa-09d1f8d0da2a",
   "metadata": {},
   "outputs": [
    {
     "data": {
      "text/plain": [
       "Index(['Fundos', 'Setor', 'Preço Atual (R$)', 'Liquidez Diária (R$)', 'P/VP',\n",
       "       'Último Dividendo', 'Dividend Yield', 'DY (12M) Acumulado',\n",
       "       'DY (12M) média', 'DY Ano', 'Variação Preço', 'Rentab. Período',\n",
       "       'Rentab. Acumulada', 'Patrimônio Líquido', 'VPA', 'P/VPA',\n",
       "       'DY Patrimonial', 'Variação Patrimonial', 'Rentab. Patr. Período',\n",
       "       'Rentab. Patr. Acumulada', 'Vacância Física', 'Vacância Financeira',\n",
       "       'Quant. Ativos'],\n",
       "      dtype='object')"
      ]
     },
     "execution_count": 65,
     "metadata": {},
     "output_type": "execute_result"
    }
   ],
   "source": [
    "# Visualizando o nome das colunas\n",
    "dt_test.columns"
   ]
  },
  {
   "cell_type": "code",
   "execution_count": 66,
   "id": "944d5be6-4a0c-40e8-80ce-031b306b5a3b",
   "metadata": {},
   "outputs": [],
   "source": [
    "# Modificando os nomes das colunas para um padrão mais usual de se trabalhar\n",
    "dt_test.columns = ['fundos', 'setor', 'preco', 'liquidez_diaria', 'p_sobre_vp',\n",
    "                   'ultimo_dividendo', 'dividend_yield', \"dy_12m_acumulado\", \"dy_12m_media\",\n",
    "                   'dy_year', \"variacao_preco\", 'rent_periodo', 'rent_acumulada', \"patrimonio_liq\",\n",
    "                   \"vpa\", 'p_sobre_vpa', 'dy_patrimonial', 'variação_patrimonial',\n",
    "                   'rentab_patr_periodo', 'rentab_patr_acumulada', 'vacancia_fisica',\n",
    "                   'vacancia_financeira', 'quant_ativos']"
   ]
  },
  {
   "cell_type": "code",
   "execution_count": 67,
   "id": "3bf6ffbc-478e-4407-9a24-60ac06268b85",
   "metadata": {},
   "outputs": [],
   "source": [
    "# Para um tratamento uniforme em todos os dados será preciso modificar o tipo da coluna p_sobre_vpa para o tipo String\n",
    "dt_test.p_sobre_vpa = dt_test.p_sobre_vpa.astype(str)"
   ]
  },
  {
   "cell_type": "code",
   "execution_count": 68,
   "id": "dcacbcbf-c210-47f6-81cf-1f15ccba594a",
   "metadata": {},
   "outputs": [],
   "source": [
    "# Modificando os valores numéricos do dataset\n",
    "# Vamos remover o ponto, a vírgula, transformar em dados do tipo float\n",
    "# e como todos os dados possuem duas casas decimais, basta dividir por 100\n",
    "for col in ['preco', 'liquidez_diaria', 'p_sobre_vp', \"ultimo_dividendo\", \"patrimonio_liq\", \"vpa\", \"p_sobre_vpa\"]:\n",
    "    dt_test[col] = dt_test[col].str.replace(\".\",\"\", regex=True)\n",
    "    dt_test[col] = dt_test[col].str.replace(\",\",\"\", regex=True)\n",
    "    dt_test[col] = dt_test[col].astype(float)\n",
    "    dt_test[col] = dt_test[col].apply(lambda x: x/100)"
   ]
  },
  {
   "cell_type": "code",
   "execution_count": 70,
   "id": "3fcaacd6-780a-46cd-9940-fcb884eb44dd",
   "metadata": {},
   "outputs": [],
   "source": [
    "# Modificando os valores percentuais do dataset\n",
    "# De maneira análoga, vamos remover ponto, vírgula e o sinal de porcentagem\n",
    "# Ao invés de dividir apenas por 100, pois todos possuem duas casas decimais\n",
    "# Vamos dividir por 10000, pois os valores são em porcentagem, basicamente\n",
    "# as transformações são /100 para duas casas e /100 para percentual, logo /10000\n",
    "for col in ['dividend_yield', \"dy_12m_acumulado\", \"dy_12m_media\", 'dy_year', \"variacao_preco\", \"rent_periodo\", \"rent_acumulada\",\n",
    "            \"dy_patrimonial\", 'variação_patrimonial','rentab_patr_periodo', 'rentab_patr_acumulada']:\n",
    "    dt_test[col] = dt_test[col].str.replace(\".\",\"\", regex=True)\n",
    "    dt_test[col] = dt_test[col].str.replace(\",\",\"\", regex=True)\n",
    "    dt_test[col] = dt_test[col].str.replace(\"%\",\"\", regex=True)\n",
    "    dt_test[col] = dt_test[col].astype(float)\n",
    "    dt_test[col] = dt_test[col].apply(lambda x: x/10000)"
   ]
  },
  {
   "cell_type": "code",
   "execution_count": 71,
   "id": "34ca96d9-ee7d-455e-80da-605213d4cc6c",
   "metadata": {},
   "outputs": [],
   "source": [
    "# Tornando valores do tipo NaN em zero\n",
    "dt_test = dt_test.fillna(0)"
   ]
  },
  {
   "cell_type": "code",
   "execution_count": 72,
   "id": "8b5e8b3b-ed52-4bba-8b7f-12431b1abd8f",
   "metadata": {},
   "outputs": [
    {
     "name": "stdout",
     "output_type": "stream",
     "text": [
      "<class 'pandas.core.frame.DataFrame'>\n",
      "RangeIndex: 390 entries, 0 to 389\n",
      "Data columns (total 23 columns):\n",
      " #   Column                 Non-Null Count  Dtype  \n",
      "---  ------                 --------------  -----  \n",
      " 0   fundos                 390 non-null    object \n",
      " 1   setor                  390 non-null    object \n",
      " 2   preco                  390 non-null    float64\n",
      " 3   liquidez_diaria        390 non-null    float64\n",
      " 4   p_sobre_vp             390 non-null    float64\n",
      " 5   ultimo_dividendo       390 non-null    float64\n",
      " 6   dividend_yield         390 non-null    float64\n",
      " 7   dy_12m_acumulado       390 non-null    float64\n",
      " 8   dy_12m_media           390 non-null    float64\n",
      " 9   dy_year                390 non-null    float64\n",
      " 10  variacao_preco         390 non-null    float64\n",
      " 11  rent_periodo           390 non-null    float64\n",
      " 12  rent_acumulada         390 non-null    float64\n",
      " 13  patrimonio_liq         390 non-null    float64\n",
      " 14  vpa                    390 non-null    float64\n",
      " 15  p_sobre_vpa            390 non-null    float64\n",
      " 16  dy_patrimonial         390 non-null    float64\n",
      " 17  variação_patrimonial   390 non-null    float64\n",
      " 18  rentab_patr_periodo    390 non-null    float64\n",
      " 19  rentab_patr_acumulada  390 non-null    float64\n",
      " 20  vacancia_fisica        390 non-null    float64\n",
      " 21  vacancia_financeira    390 non-null    float64\n",
      " 22  quant_ativos           390 non-null    int64  \n",
      "dtypes: float64(20), int64(1), object(2)\n",
      "memory usage: 70.2+ KB\n"
     ]
    }
   ],
   "source": [
    "# Visualizando os dados\n",
    "dt_test.info()"
   ]
  },
  {
   "cell_type": "code",
   "execution_count": 73,
   "id": "fec2fce8-eefd-4546-b2f7-5dabfedc753a",
   "metadata": {},
   "outputs": [],
   "source": [
    "# Exporta o DataFrame para um arquivo Excel\n",
    "dt_test.to_excel('fundsexplorer_17_08_2023.xlsx', index=False)\n",
    "\n",
    "# Ou exporta o DataFrame para um arquivo CSV\n",
    "dt_test.to_csv('fundsexplorer_17_08_2023.csv', index=False)"
   ]
  },
  {
   "cell_type": "code",
   "execution_count": null,
   "id": "5f4035c7-c373-4763-a56e-5e3cc71a9bd0",
   "metadata": {},
   "outputs": [],
   "source": []
  }
 ],
 "metadata": {
  "kernelspec": {
   "display_name": "Python 3 (ipykernel)",
   "language": "python",
   "name": "python3"
  },
  "language_info": {
   "codemirror_mode": {
    "name": "ipython",
    "version": 3
   },
   "file_extension": ".py",
   "mimetype": "text/x-python",
   "name": "python",
   "nbconvert_exporter": "python",
   "pygments_lexer": "ipython3",
   "version": "3.11.4"
  }
 },
 "nbformat": 4,
 "nbformat_minor": 5
}
