{
 "cells": [
  {
   "cell_type": "code",
   "execution_count": 8,
   "id": "c1f79216-d45e-471b-98d1-e49c25851e89",
   "metadata": {},
   "outputs": [],
   "source": [
    "# Realizando as importações das bibliotecas necessárias\n",
    "import pandas as pd # Para o tratamento de dados\n",
    "import numpy as np # Para o tratamento de dados\n",
    "import cfscrape # Para realizar a requisição na raspagem de dad\n",
    "import requests"
   ]
  },
  {
   "cell_type": "code",
   "execution_count": 5,
   "id": "d171f61e-a0ea-4289-96ed-49ab0ef106af",
   "metadata": {},
   "outputs": [],
   "source": [
    "url = \"https://www.clubefii.com.br/fundos-imobiliarios/39950/IFIX\"\n",
    "\n",
    "\n",
    "scrape = cfscrape.create_scraper()\n",
    "resposta = scrape.get(url)"
   ]
  },
  {
   "cell_type": "code",
   "execution_count": 6,
   "id": "4973936c-2d5f-44b0-a8d6-0b07bd678fb2",
   "metadata": {},
   "outputs": [
    {
     "data": {
      "text/plain": [
       "<Response [403]>"
      ]
     },
     "execution_count": 6,
     "metadata": {},
     "output_type": "execute_result"
    }
   ],
   "source": [
    "resposta"
   ]
  },
  {
   "cell_type": "code",
   "execution_count": 9,
   "id": "407502ce-8592-4914-9899-5ff24e4216a6",
   "metadata": {},
   "outputs": [],
   "source": [
    "import requests\n",
    "from bs4 import BeautifulSoup"
   ]
  },
  {
   "cell_type": "code",
   "execution_count": 10,
   "id": "4c6abcb7-15e7-416f-8b85-2463f6632a15",
   "metadata": {},
   "outputs": [
    {
     "data": {
      "text/plain": [
       "<Response [403]>"
      ]
     },
     "execution_count": 10,
     "metadata": {},
     "output_type": "execute_result"
    }
   ],
   "source": [
    "r = requests.get(url)\n",
    "r"
   ]
  },
  {
   "cell_type": "code",
   "execution_count": null,
   "id": "3164afa0-e8f4-4616-8cc1-dc52ce43b37d",
   "metadata": {},
   "outputs": [],
   "source": []
  }
 ],
 "metadata": {
  "kernelspec": {
   "display_name": "Python 3 (ipykernel)",
   "language": "python",
   "name": "python3"
  },
  "language_info": {
   "codemirror_mode": {
    "name": "ipython",
    "version": 3
   },
   "file_extension": ".py",
   "mimetype": "text/x-python",
   "name": "python",
   "nbconvert_exporter": "python",
   "pygments_lexer": "ipython3",
   "version": "3.9.13"
  }
 },
 "nbformat": 4,
 "nbformat_minor": 5
}
