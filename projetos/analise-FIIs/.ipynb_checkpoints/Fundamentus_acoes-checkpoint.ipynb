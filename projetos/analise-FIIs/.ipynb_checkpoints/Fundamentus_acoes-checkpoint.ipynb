{
 "cells": [
  {
   "cell_type": "markdown",
   "id": "e00e9ec7-9b65-4221-b9e0-0c8930297549",
   "metadata": {},
   "source": [
    "<center><b>UNIVERSIDADE FEDERAL RURAL DO SEMI-ÁRIDO</b> </center>\n",
    "<center><b>Inteligência Artificial</b></center>\n",
    "\n",
    "\n",
    "<h3><center>Implementação de algoritmos de aprendizado de máquina para análise de\n",
    "padrões em ações do mercado Financeiro</center></h3>\n",
    "\n",
    "\n",
    "<div style=\"text-align: right;\">Anderson Carlos da Silva Morais</div>\n",
    "<div style=\"text-align: right;\">Anderson Matheus Melo da Silva</div>\n",
    "\n",
    "\n",
    "\n",
    "<center><b>Proposta</b></center>\n",
    "<b>Introdução:</b> Nos últimos anos, temos presenciado a popularização e disseminação da inteligência\n",
    "artificial e dos algoritmos de aprendizado de máquina em várias áreas. Um campo que tem se\n",
    "beneficiado dessas tecnologias é o mercado financeiro, onde o uso desses algoritmos para análise de\n",
    "ações tem se tornado uma prática comum. No entanto, é importante destacar que a promessa de\n",
    "retornos financeiros milagrosos e a venda de produtos e softwares enganosos têm gerado\n",
    "desconfiança nesse cenário.\n",
    "\n",
    "<b>Objetivo:</b> O objetivo deste projeto é explorar o uso de algoritmos de aprendizado de máquina para\n",
    "análise de padrões no mercado financeiro de forma ética e didática. O projeto busca fornecer um\n",
    "ambiente de estudo no qual será possível entender e aplicar diferentes algoritmos de ML em um\n",
    "contexto real, utilizando um conjunto de dados definido de ações.\n",
    "Metodologia:\n",
    "1. <b>Coleta de Dados:</b> Será realizado um levantamento de dados históricos de ações de\n",
    "empresas, utilizando fontes confiáveis e de acesso público. Os dados incluirão informações\n",
    "como preço de abertura, preço de fechamento, volume de negociação, entre outros\n",
    "indicadores relevantes.\n",
    "2. <b>Pré-processamento dos Dados:</b> Os dados coletados passarão por um processo de limpeza e\n",
    "transformação, a fim de remover ruídos e garantir a qualidade dos dados. Serão aplicadas\n",
    "técnicas de normalização e tratamento de valores ausentes, quando necessário.\n",
    "3. <b>Exploração de Algoritmos de Aprendizado de Máquina:</b> Serão utilizados diferentes\n",
    "algoritmos de aprendizado de máquina, como regressão linear, árvores de decisão, redes\n",
    "neurais, entre outros, para analisar os dados coletados. Cada algoritmo será aplicado e\n",
    "avaliado em termos de desempenho na identificação de padrões relevantes no mercado\n",
    "financeiro.\n",
    "4. <b>Avaliação e Interpretação dos Resultados:</b> Os resultados obtidos serão analisados e\n",
    "interpretados de forma a identificar padrões e tendências no mercado financeiro. Serão\n",
    "realizadas métricas de desempenho para avaliar a eficácia dos algoritmos utilizados. É\n",
    "importante ressaltar que este projeto não tem como objetivo fornecer recomendações de\n",
    "compra ou venda de ações, mas sim estudar os conceitos de ML em um contexto real.\n",
    "\n",
    "<b>Justificativa:</b> Este projeto visa explorar o uso de algoritmos de aprendizado de máquina para análise\n",
    "de padrões no mercado financeiro. A proposta é utilizar um conjunto de dados definido de ações\n",
    "para aplicar diferentes algoritmos e entender seu desempenho na identificação de padrões\n",
    "relevantes. Ao final do projeto, espera-se obter um maior entendimento sobre o uso de ML no\n",
    "mercado financeiro, contribuindo para o avanço do conhecimento nessa área.\n",
    "\n",
    "<b>Observação:</b> É importante ressaltar que este projeto destina-se apenas ao estudo e compreensão dos\n",
    "conceitos de aprendizado de máquina em um contexto real. Não deve ser interpretado como\n",
    "recomendação de compra ou venda de ações. Sempre consulte profissionais especializados antes de\n",
    "tomar decisões financeiras.\n",
    "\n"
   ]
  },
  {
   "cell_type": "markdown",
   "id": "6f2ca08c-ef7c-4da9-9a34-ac6a8479fe60",
   "metadata": {
    "tags": []
   },
   "source": [
    "# Etapa 1: Coleta de Dados"
   ]
  },
  {
   "cell_type": "code",
   "execution_count": 1,
   "id": "cc60cd41-6021-40a8-9257-e1be1c66d539",
   "metadata": {},
   "outputs": [],
   "source": [
    "# Realizando as importações das bibliotecas necessárias\n",
    "import pandas as pd # tratamento de dados\n",
    "import numpy as np # tratamento de dados\n",
    "import cfscrape # Requisição na raspagem de dados\n",
    "from bs4 import BeautifulSoup as bs # Filtro e modificação na raspagem de dados\n",
    "import unidecode # tratamento de Strings\n",
    "import datetime # Exportar os dados com os tratamentos "
   ]
  },
  {
   "cell_type": "markdown",
   "id": "06f7f1c6-a9f3-497b-ae6f-d47e67f51842",
   "metadata": {},
   "source": [
    "A fonte de dados abordada para o projeto serão as disponíveis no site [Fundamentus](https://www.fundamentus.com.br/fii_resultado.php), contudo será apresentado outros links de sites que podem ser usados por futuros projetos."
   ]
  },
  {
   "cell_type": "code",
   "execution_count": 14,
   "id": "a8d841b9-8fc0-4fd6-a719-2e45290de661",
   "metadata": {},
   "outputs": [],
   "source": [
    "# Usando da biblioteca cfscrape para obter uma requisição do site escolhido\n",
    "\n",
    "# cabeçalhos para acesso\n",
    "headers ={\"User-Agent\": \"Mozilla/5.0 (Windows NT 10.0; Win64; x64) AppleWebKit/537.36 (KHTML, like Gecko) Chrome/94.0.4606.61 Safari/537.36\"}\n",
    "\n",
    "# url do site escolhido\n",
    "url = \"https://www.fundamentus.com.br/resultado.php\"\n",
    "\n",
    "# ferramentas de scrap para obter a requisição\n",
    "scraper = cfscrape.create_scraper()\n",
    "response = scraper.get(url)\n"
   ]
  },
  {
   "cell_type": "code",
   "execution_count": 15,
   "id": "b43768bc-ee71-4cf6-8685-a239d77a5680",
   "metadata": {},
   "outputs": [
    {
     "name": "stdout",
     "output_type": "stream",
     "text": [
      "<Response [200]>\n"
     ]
    }
   ],
   "source": [
    "# Printando a resposta da requisição HTTP, caso 200 é que tudo deu certo\n",
    "print(response)"
   ]
  },
  {
   "cell_type": "code",
   "execution_count": 19,
   "id": "c5816dfb-ab81-425f-9056-8acbcf61a613",
   "metadata": {},
   "outputs": [],
   "source": [
    "# Acessando o conteúdo HTML da resposta da requisição com formatação html esparço, mais fácil de se trabalhar\n",
    "soup = bs(response.content, \"html.parser\")\n",
    "\n",
    "# Para visualizar o HTML do site basta tirar o ; do recurso abaixo\n",
    "soup.content"
   ]
  },
  {
   "cell_type": "code",
   "execution_count": 23,
   "id": "88e7839b-815b-4801-a2f5-71be52aaaa19",
   "metadata": {},
   "outputs": [],
   "source": [
    "# Filtrando o HTML para apenas a tabela de ações\n",
    "n = soup.find(\"table\")"
   ]
  },
  {
   "cell_type": "code",
   "execution_count": 30,
   "id": "2c0897fc-7fff-4020-b4b1-d6ecb0b3cd1f",
   "metadata": {},
   "outputs": [
    {
     "data": {
      "text/plain": [
       "bs4.element.Tag"
      ]
     },
     "execution_count": 30,
     "metadata": {},
     "output_type": "execute_result"
    }
   ],
   "source": [
    "type(n)"
   ]
  },
  {
   "cell_type": "code",
   "execution_count": 20,
   "id": "af93d0da-fabb-4ebd-bc37-ba519ed44ef4",
   "metadata": {},
   "outputs": [
    {
     "data": {
      "text/html": [
       "<div>\n",
       "<style scoped>\n",
       "    .dataframe tbody tr th:only-of-type {\n",
       "        vertical-align: middle;\n",
       "    }\n",
       "\n",
       "    .dataframe tbody tr th {\n",
       "        vertical-align: top;\n",
       "    }\n",
       "\n",
       "    .dataframe thead th {\n",
       "        text-align: right;\n",
       "    }\n",
       "</style>\n",
       "<table border=\"1\" class=\"dataframe\">\n",
       "  <thead>\n",
       "    <tr style=\"text-align: right;\">\n",
       "      <th></th>\n",
       "      <th>Papel</th>\n",
       "      <th>Cotação</th>\n",
       "      <th>P/L</th>\n",
       "      <th>P/VP</th>\n",
       "      <th>PSR</th>\n",
       "      <th>Div.Yield</th>\n",
       "      <th>P/Ativo</th>\n",
       "      <th>P/Cap.Giro</th>\n",
       "      <th>P/EBIT</th>\n",
       "      <th>P/Ativ Circ.Liq</th>\n",
       "      <th>...</th>\n",
       "      <th>EV/EBITDA</th>\n",
       "      <th>Mrg Ebit</th>\n",
       "      <th>Mrg. Líq.</th>\n",
       "      <th>Liq. Corr.</th>\n",
       "      <th>ROIC</th>\n",
       "      <th>ROE</th>\n",
       "      <th>Liq.2meses</th>\n",
       "      <th>Patrim. Líq</th>\n",
       "      <th>Dív.Brut/ Patrim.</th>\n",
       "      <th>Cresc. Rec.5a</th>\n",
       "    </tr>\n",
       "  </thead>\n",
       "  <tbody>\n",
       "    <tr>\n",
       "      <th>0</th>\n",
       "      <td>PMET3</td>\n",
       "      <td>000</td>\n",
       "      <td>000</td>\n",
       "      <td>000</td>\n",
       "      <td>0000</td>\n",
       "      <td>0,00%</td>\n",
       "      <td>0</td>\n",
       "      <td>000</td>\n",
       "      <td>000</td>\n",
       "      <td>000</td>\n",
       "      <td>...</td>\n",
       "      <td>000</td>\n",
       "      <td>0,00%</td>\n",
       "      <td>0,00%</td>\n",
       "      <td>0</td>\n",
       "      <td>0,00%</td>\n",
       "      <td>4,10%</td>\n",
       "      <td>000</td>\n",
       "      <td>-290.863.000,00</td>\n",
       "      <td>000</td>\n",
       "      <td>37,74%</td>\n",
       "    </tr>\n",
       "    <tr>\n",
       "      <th>1</th>\n",
       "      <td>IVTT3</td>\n",
       "      <td>000</td>\n",
       "      <td>000</td>\n",
       "      <td>000</td>\n",
       "      <td>0000</td>\n",
       "      <td>0,00%</td>\n",
       "      <td>0</td>\n",
       "      <td>000</td>\n",
       "      <td>000</td>\n",
       "      <td>000</td>\n",
       "      <td>...</td>\n",
       "      <td>000</td>\n",
       "      <td>0,00%</td>\n",
       "      <td>0,00%</td>\n",
       "      <td>0</td>\n",
       "      <td>0,00%</td>\n",
       "      <td>-0,40%</td>\n",
       "      <td>000</td>\n",
       "      <td>1.083.050.000,00</td>\n",
       "      <td>000</td>\n",
       "      <td>20,67%</td>\n",
       "    </tr>\n",
       "    <tr>\n",
       "      <th>2</th>\n",
       "      <td>PORP4</td>\n",
       "      <td>240</td>\n",
       "      <td>000</td>\n",
       "      <td>000</td>\n",
       "      <td>0000</td>\n",
       "      <td>0,00%</td>\n",
       "      <td>0</td>\n",
       "      <td>000</td>\n",
       "      <td>000</td>\n",
       "      <td>000</td>\n",
       "      <td>...</td>\n",
       "      <td>000</td>\n",
       "      <td>0,00%</td>\n",
       "      <td>0,00%</td>\n",
       "      <td>0</td>\n",
       "      <td>0,00%</td>\n",
       "      <td>-2,08%</td>\n",
       "      <td>000</td>\n",
       "      <td>22.399.000,00</td>\n",
       "      <td>000</td>\n",
       "      <td>13,66%</td>\n",
       "    </tr>\n",
       "    <tr>\n",
       "      <th>3</th>\n",
       "      <td>MNSA4</td>\n",
       "      <td>047</td>\n",
       "      <td>000</td>\n",
       "      <td>000</td>\n",
       "      <td>0000</td>\n",
       "      <td>0,00%</td>\n",
       "      <td>0</td>\n",
       "      <td>000</td>\n",
       "      <td>000</td>\n",
       "      <td>000</td>\n",
       "      <td>...</td>\n",
       "      <td>000</td>\n",
       "      <td>-208,15%</td>\n",
       "      <td>-362,66%</td>\n",
       "      <td>363</td>\n",
       "      <td>-13,50%</td>\n",
       "      <td>145,70%</td>\n",
       "      <td>000</td>\n",
       "      <td>-9.105.000,00</td>\n",
       "      <td>-652</td>\n",
       "      <td>-41,11%</td>\n",
       "    </tr>\n",
       "    <tr>\n",
       "      <th>4</th>\n",
       "      <td>MNSA3</td>\n",
       "      <td>042</td>\n",
       "      <td>000</td>\n",
       "      <td>000</td>\n",
       "      <td>0000</td>\n",
       "      <td>0,00%</td>\n",
       "      <td>0</td>\n",
       "      <td>000</td>\n",
       "      <td>000</td>\n",
       "      <td>000</td>\n",
       "      <td>...</td>\n",
       "      <td>000</td>\n",
       "      <td>-208,15%</td>\n",
       "      <td>-362,66%</td>\n",
       "      <td>363</td>\n",
       "      <td>-13,50%</td>\n",
       "      <td>145,70%</td>\n",
       "      <td>000</td>\n",
       "      <td>-9.105.000,00</td>\n",
       "      <td>-652</td>\n",
       "      <td>-41,11%</td>\n",
       "    </tr>\n",
       "    <tr>\n",
       "      <th>...</th>\n",
       "      <td>...</td>\n",
       "      <td>...</td>\n",
       "      <td>...</td>\n",
       "      <td>...</td>\n",
       "      <td>...</td>\n",
       "      <td>...</td>\n",
       "      <td>...</td>\n",
       "      <td>...</td>\n",
       "      <td>...</td>\n",
       "      <td>...</td>\n",
       "      <td>...</td>\n",
       "      <td>...</td>\n",
       "      <td>...</td>\n",
       "      <td>...</td>\n",
       "      <td>...</td>\n",
       "      <td>...</td>\n",
       "      <td>...</td>\n",
       "      <td>...</td>\n",
       "      <td>...</td>\n",
       "      <td>...</td>\n",
       "      <td>...</td>\n",
       "    </tr>\n",
       "    <tr>\n",
       "      <th>982</th>\n",
       "      <td>UBBR11</td>\n",
       "      <td>1475</td>\n",
       "      <td>1.201,81</td>\n",
       "      <td>391</td>\n",
       "      <td>0000</td>\n",
       "      <td>0,00%</td>\n",
       "      <td>0</td>\n",
       "      <td>000</td>\n",
       "      <td>000</td>\n",
       "      <td>000</td>\n",
       "      <td>...</td>\n",
       "      <td>000</td>\n",
       "      <td>0,00%</td>\n",
       "      <td>0,00%</td>\n",
       "      <td>0</td>\n",
       "      <td>0,00%</td>\n",
       "      <td>0,33%</td>\n",
       "      <td>000</td>\n",
       "      <td>10.317.200.000,00</td>\n",
       "      <td>000</td>\n",
       "      <td>10,58%</td>\n",
       "    </tr>\n",
       "    <tr>\n",
       "      <th>983</th>\n",
       "      <td>UBBR3</td>\n",
       "      <td>1800</td>\n",
       "      <td>1.466,61</td>\n",
       "      <td>477</td>\n",
       "      <td>0000</td>\n",
       "      <td>0,00%</td>\n",
       "      <td>0</td>\n",
       "      <td>000</td>\n",
       "      <td>000</td>\n",
       "      <td>000</td>\n",
       "      <td>...</td>\n",
       "      <td>000</td>\n",
       "      <td>0,00%</td>\n",
       "      <td>0,00%</td>\n",
       "      <td>0</td>\n",
       "      <td>0,00%</td>\n",
       "      <td>0,33%</td>\n",
       "      <td>000</td>\n",
       "      <td>10.317.200.000,00</td>\n",
       "      <td>000</td>\n",
       "      <td>10,58%</td>\n",
       "    </tr>\n",
       "    <tr>\n",
       "      <th>984</th>\n",
       "      <td>DOHL4</td>\n",
       "      <td>544</td>\n",
       "      <td>2.524,59</td>\n",
       "      <td>058</td>\n",
       "      <td>0632</td>\n",
       "      <td>0,00%</td>\n",
       "      <td>418</td>\n",
       "      <td>091</td>\n",
       "      <td>-4490</td>\n",
       "      <td>159</td>\n",
       "      <td>...</td>\n",
       "      <td>4422</td>\n",
       "      <td>-1,41%</td>\n",
       "      <td>0,03%</td>\n",
       "      <td>664</td>\n",
       "      <td>-1,06%</td>\n",
       "      <td>0,02%</td>\n",
       "      <td>28.480,70</td>\n",
       "      <td>712.035.000,00</td>\n",
       "      <td>017</td>\n",
       "      <td>10,08%</td>\n",
       "    </tr>\n",
       "    <tr>\n",
       "      <th>985</th>\n",
       "      <td>DOHL3</td>\n",
       "      <td>1000</td>\n",
       "      <td>4.640,80</td>\n",
       "      <td>106</td>\n",
       "      <td>1162</td>\n",
       "      <td>0,00%</td>\n",
       "      <td>768</td>\n",
       "      <td>167</td>\n",
       "      <td>-8254</td>\n",
       "      <td>292</td>\n",
       "      <td>...</td>\n",
       "      <td>7923</td>\n",
       "      <td>-1,41%</td>\n",
       "      <td>0,03%</td>\n",
       "      <td>664</td>\n",
       "      <td>-1,06%</td>\n",
       "      <td>0,02%</td>\n",
       "      <td>000</td>\n",
       "      <td>712.035.000,00</td>\n",
       "      <td>017</td>\n",
       "      <td>10,08%</td>\n",
       "    </tr>\n",
       "    <tr>\n",
       "      <th>986</th>\n",
       "      <td>MEGA3</td>\n",
       "      <td>1062</td>\n",
       "      <td>7.549,55</td>\n",
       "      <td>131</td>\n",
       "      <td>2660</td>\n",
       "      <td>0,00%</td>\n",
       "      <td>393</td>\n",
       "      <td>-1912</td>\n",
       "      <td>1181</td>\n",
       "      <td>-071</td>\n",
       "      <td>...</td>\n",
       "      <td>1450</td>\n",
       "      <td>22,53%</td>\n",
       "      <td>0,16%</td>\n",
       "      <td>88</td>\n",
       "      <td>3,63%</td>\n",
       "      <td>0,02%</td>\n",
       "      <td>10.731.100,00</td>\n",
       "      <td>5.066.810.000,00</td>\n",
       "      <td>171</td>\n",
       "      <td>0,00%</td>\n",
       "    </tr>\n",
       "  </tbody>\n",
       "</table>\n",
       "<p>987 rows × 21 columns</p>\n",
       "</div>"
      ],
      "text/plain": [
       "      Papel Cotação       P/L P/VP   PSR Div.Yield  P/Ativo P/Cap.Giro P/EBIT  \\\n",
       "0     PMET3     000       000  000  0000     0,00%        0        000    000   \n",
       "1     IVTT3     000       000  000  0000     0,00%        0        000    000   \n",
       "2     PORP4     240       000  000  0000     0,00%        0        000    000   \n",
       "3     MNSA4     047       000  000  0000     0,00%        0        000    000   \n",
       "4     MNSA3     042       000  000  0000     0,00%        0        000    000   \n",
       "..      ...     ...       ...  ...   ...       ...      ...        ...    ...   \n",
       "982  UBBR11    1475  1.201,81  391  0000     0,00%        0        000    000   \n",
       "983   UBBR3    1800  1.466,61  477  0000     0,00%        0        000    000   \n",
       "984   DOHL4     544  2.524,59  058  0632     0,00%      418        091  -4490   \n",
       "985   DOHL3    1000  4.640,80  106  1162     0,00%      768        167  -8254   \n",
       "986   MEGA3    1062  7.549,55  131  2660     0,00%      393      -1912   1181   \n",
       "\n",
       "    P/Ativ Circ.Liq  ... EV/EBITDA  Mrg Ebit Mrg. Líq. Liq. Corr.     ROIC  \\\n",
       "0               000  ...       000     0,00%     0,00%          0    0,00%   \n",
       "1               000  ...       000     0,00%     0,00%          0    0,00%   \n",
       "2               000  ...       000     0,00%     0,00%          0    0,00%   \n",
       "3               000  ...       000  -208,15%  -362,66%        363  -13,50%   \n",
       "4               000  ...       000  -208,15%  -362,66%        363  -13,50%   \n",
       "..              ...  ...       ...       ...       ...        ...      ...   \n",
       "982             000  ...       000     0,00%     0,00%          0    0,00%   \n",
       "983             000  ...       000     0,00%     0,00%          0    0,00%   \n",
       "984             159  ...      4422    -1,41%     0,03%        664   -1,06%   \n",
       "985             292  ...      7923    -1,41%     0,03%        664   -1,06%   \n",
       "986            -071  ...      1450    22,53%     0,16%         88    3,63%   \n",
       "\n",
       "         ROE     Liq.2meses        Patrim. Líq Dív.Brut/ Patrim. Cresc. Rec.5a  \n",
       "0      4,10%            000    -290.863.000,00               000        37,74%  \n",
       "1     -0,40%            000   1.083.050.000,00               000        20,67%  \n",
       "2     -2,08%            000      22.399.000,00               000        13,66%  \n",
       "3    145,70%            000      -9.105.000,00              -652       -41,11%  \n",
       "4    145,70%            000      -9.105.000,00              -652       -41,11%  \n",
       "..       ...            ...                ...               ...           ...  \n",
       "982    0,33%            000  10.317.200.000,00               000        10,58%  \n",
       "983    0,33%            000  10.317.200.000,00               000        10,58%  \n",
       "984    0,02%      28.480,70     712.035.000,00               017        10,08%  \n",
       "985    0,02%            000     712.035.000,00               017        10,08%  \n",
       "986    0,02%  10.731.100,00   5.066.810.000,00               171         0,00%  \n",
       "\n",
       "[987 rows x 21 columns]"
      ]
     },
     "execution_count": 20,
     "metadata": {},
     "output_type": "execute_result"
    }
   ],
   "source": [
    "# Lendo a tabela em HTML como um dataframe do Pandas\n",
    "\n",
    "# O código gera uma lista de dataframes do código HTML, como o código já foi filtrado, só apresenta um dataframe,\n",
    "# basta indicar o índice para acessá-lo diretamente, atribuindo a variável que representará o dataset\n",
    "dt= pd.read_html(response.content)[0]\n",
    "dt\n",
    "\n",
    "## Maneira alternativa de acessar a lista de dataframes ##\n",
    "\n",
    "# gerando a lista de dataframes\n",
    "# dt= pd.read_html(response.content)\n",
    "# Acessando o dataframe\n",
    "# dt[0]"
   ]
  },
  {
   "cell_type": "markdown",
   "id": "f3a3e858-a06a-4ddf-ad92-e0ca587ca446",
   "metadata": {},
   "source": [
    "# Etapa 2: Pré-processamento dos Dados\n",
    "\n",
    "Para evitar o tempo gasto na coleta de dados caso os dados sofram uma formatação errada, vamos trabalhar com uma cópia do dataset Original.\n"
   ]
  },
  {
   "cell_type": "code",
   "execution_count": null,
   "id": "c769adc6-555a-4239-8641-21d5fc524ca7",
   "metadata": {},
   "outputs": [],
   "source": [
    "# Criando um cópia do dataset original para o tratamento de dados\n",
    "dt_test = dt.copy()"
   ]
  },
  {
   "cell_type": "code",
   "execution_count": null,
   "id": "dd789cdc-43d2-4666-9896-1345abd8013c",
   "metadata": {
    "tags": []
   },
   "outputs": [],
   "source": [
    "# Avaliando os dados do Dataframe para identificar as limpezas necessárias\n",
    "dt_test.info()"
   ]
  },
  {
   "cell_type": "code",
   "execution_count": null,
   "id": "05f1dc6f-1f1f-42e5-9435-f2d3ef873b6b",
   "metadata": {},
   "outputs": [],
   "source": [
    "# Visualizando o nome das colunas\n",
    "dt_test.columns"
   ]
  },
  {
   "cell_type": "markdown",
   "id": "6c347341-97cf-4218-adb4-4d603af53417",
   "metadata": {},
   "source": [
    "**Obs:** As colunas possuem nomes com caracteres inválidos e que dificultam o trabalho, sendo necessário modifica-las"
   ]
  },
  {
   "cell_type": "code",
   "execution_count": null,
   "id": "addb74bc-b276-4dde-a393-dec7383c7b3c",
   "metadata": {},
   "outputs": [],
   "source": [
    "# Salvando os antigos nomes das colunas para um possível uso futuro\n",
    "colunas_antigas = dt_test.columns\n",
    "\n",
    "# Modificando os nomes das colunas para um padrão usual\n",
    "colunas = []\n",
    "for nome in dt_test.columns:\n",
    "    text = nome.strip().replace(' ','_').lower().replace('/','_sobre_') # múltiplos tratamentos de strings\n",
    "    text = unidecode.unidecode(text) # remove assentos \n",
    "    colunas.append(text)\n",
    "    \n",
    "colunas"
   ]
  },
  {
   "cell_type": "code",
   "execution_count": null,
   "id": "fd015e77-74a8-426e-9514-1dc2bdacf384",
   "metadata": {},
   "outputs": [],
   "source": [
    "# Atribuindo os novos nomes as colunas\n",
    "dt_test.columns = colunas"
   ]
  },
  {
   "cell_type": "code",
   "execution_count": null,
   "id": "0710ade0-35b8-4173-b0db-0e898224f0f2",
   "metadata": {},
   "outputs": [],
   "source": [
    "# Visualizando a modificação\n",
    "dt_test.head(3)"
   ]
  },
  {
   "cell_type": "markdown",
   "id": "a709da22-2dcf-4954-bcc6-863e419eae27",
   "metadata": {},
   "source": [
    "**Obs:** os dados numéricos estão separados por casas decimais, precisando de um tratamento para removê-las"
   ]
  },
  {
   "cell_type": "code",
   "execution_count": null,
   "id": "f74ff2ea-1202-4d7a-bc1d-cde1cb88a9b1",
   "metadata": {},
   "outputs": [],
   "source": [
    "# Removendo a pontuação dos dados no Dataset\n",
    "# Os códigos a partir deste ponto devesse tomar cuidado para não rodar mais de uma vez, caso contrário gera um erro.\n",
    "dt_test = dt_test.apply(lambda x: x.str.replace(\".\",'', regex=True) if x.dtype==\"object\" else x)\n",
    "\n",
    "# Não funciona\n",
    "# dt_test.replace(',','.', regex=True, inplace=True)"
   ]
  },
  {
   "cell_type": "code",
   "execution_count": null,
   "id": "d3284128-84c7-46fc-8fb6-6111cab2faec",
   "metadata": {},
   "outputs": [],
   "source": [
    "# Visualizando o dataset para verificar se o tratamento foi feito corretamente\n",
    "# A coluna de cotacao irá precisar de um tratamento especial que será executado mais na frente\n",
    "dt_test"
   ]
  },
  {
   "cell_type": "markdown",
   "id": "992ec528-c7d7-4b42-967f-d937b59bbfd4",
   "metadata": {},
   "source": [
    "**Obs:** os valores numéricos no python usam o ponto como caractere de separação decimal, a próxima mudança será substituir a vírgula por ponto."
   ]
  },
  {
   "cell_type": "code",
   "execution_count": null,
   "id": "c24cf013-4e07-49bb-99db-69c84ee3625f",
   "metadata": {},
   "outputs": [],
   "source": [
    "# Substituindo a vígula por ponto no dataset\n",
    "dt_test.replace(',','.', regex=True, inplace=True)\n",
    "\n",
    "## Outra forma de fazer ##\n",
    "#dt_test = dt_test.apply(lambda x: x.str.replace(\",\",\".\") if x.dtype==\"object\" else x)"
   ]
  },
  {
   "cell_type": "code",
   "execution_count": null,
   "id": "bb145793-fda0-4c20-9bfd-dabffc1567e5",
   "metadata": {},
   "outputs": [],
   "source": [
    "# Visualizando o dataset para verificar se o tratamento foi feito corretamente\n",
    "dt_test"
   ]
  },
  {
   "cell_type": "code",
   "execution_count": null,
   "id": "3fc2bcc4-b84e-45d7-8e45-cb1979569cb6",
   "metadata": {},
   "outputs": [],
   "source": [
    "# Visualizando os tipos de cada coluna do dataset\n",
    "dt_test.info()"
   ]
  },
  {
   "cell_type": "markdown",
   "id": "24b1eecd-8e2a-4e82-aed9-7f76873953d8",
   "metadata": {},
   "source": [
    "**Obs:** realizando a tipagem correta das colunas"
   ]
  },
  {
   "cell_type": "code",
   "execution_count": null,
   "id": "3dd99d67-f511-490f-8c64-c2f98ccf4440",
   "metadata": {},
   "outputs": [],
   "source": [
    "# Colunas numéricas\n",
    "colunas_numericas = [\"p_sobre_vp\",\n",
    "                    \"valor_de_mercado\",\n",
    "                    \"liquidez\",\n",
    "                    \"qtd_de_imoveis\",\n",
    "                    \"preco_do_m2\",\n",
    "                    \"aluguel_por_m2\"]  \n",
    "for coluna in colunas_numericas:\n",
    "    dt_test[coluna] = dt_test[coluna].astype(float) # Modificando o tipo da coluna\n",
    "\n",
    "\n",
    "# Colunas percentuais\n",
    "colunas_percentuais = [\"ffo_yield\",\n",
    "                      \"dividend_yield\",\n",
    "                      \"cap_rate\",\n",
    "                      \"vacancia_media\"]\n",
    "\n",
    "for coluna in colunas_percentuais:\n",
    "    dt_test[coluna] = dt_test[coluna].str.replace(\"%\",\"\", regex=True).astype(float) # Removendo o % e transformando em número\n",
    "    dt_test[coluna] = dt_test[coluna].apply(lambda x: x/100) # passando a porcentagem para a forma fracionária\n"
   ]
  },
  {
   "cell_type": "code",
   "execution_count": null,
   "id": "9df79cc9-b2a8-4413-8d11-fd767e878176",
   "metadata": {},
   "outputs": [],
   "source": [
    "# Visualizando o dataset para verificar se o tratamento foi feito corretamente\n",
    "dt_test"
   ]
  },
  {
   "cell_type": "code",
   "execution_count": null,
   "id": "e98afb13-04e8-4b9d-8938-c50e1f9b501e",
   "metadata": {},
   "outputs": [],
   "source": [
    "# Visualizando os tipos de cada coluna do dataset\n",
    "dt_test.info()"
   ]
  },
  {
   "cell_type": "code",
   "execution_count": null,
   "id": "4856bbb2-56f7-4274-aed1-b2067af0b833",
   "metadata": {},
   "outputs": [],
   "source": [
    "# Modificando uma configuração do pandas para melhorar a visualização de valores muito grandes\n",
    "pd.set_option('display.float_format', '{:.2f}'.format)"
   ]
  },
  {
   "cell_type": "code",
   "execution_count": null,
   "id": "0e605bf1-d6e9-4127-812e-b6a00d05ae7b",
   "metadata": {},
   "outputs": [],
   "source": [
    "# Visualizando o dataset para verificar se o tratamento foi feito corretamente\n",
    "dt_test"
   ]
  },
  {
   "cell_type": "markdown",
   "id": "d2429681-f07b-46ca-a85b-36db5b0aaa04",
   "metadata": {},
   "source": [
    "**Obs:** agora tratando os casos especiais, ou seja, valores do tipo NaN que como estão na coluna textual podemos substituir por Desconhecido e a Coluna cotação que exigem um tratamento especifíco"
   ]
  },
  {
   "cell_type": "code",
   "execution_count": null,
   "id": "678e5950-2c91-4da7-9b1b-a5c814c150b3",
   "metadata": {},
   "outputs": [],
   "source": [
    "# Tratando os dados do tipo NaN para um valor conhecido\n",
    "dt_test.segmento = dt_test.segmento.fillna('Desconhecido') "
   ]
  },
  {
   "cell_type": "code",
   "execution_count": null,
   "id": "7ab6f6cd-5512-4fbe-9d92-429ac92de04c",
   "metadata": {},
   "outputs": [],
   "source": [
    "# Tratando a coluna de cotação\n",
    "\n",
    "# Quando foi feita a raspagem de dados alguns valores perderam seu separador de casa decimal e outros não\n",
    "# Removendo os pontos para o tratamento geral\n",
    "dt_test.cotacao = dt_test.cotacao.str.replace(\".\",\"\", regex=True)\n",
    "\n",
    "# Sabemos que todos os preços possuem duas casas décimais, logo, podemos fazer o tratamento tendo isso em mente\n",
    "dt_test.cotacao = dt_test.cotacao.astype(float).apply(lambda x: x/100) # Divindindo todos os valores por 100, garantido duas casas decimais e modificando o tipo para numérico"
   ]
  },
  {
   "cell_type": "code",
   "execution_count": null,
   "id": "438bee73-90e9-4493-9ca0-b1496b5fb061",
   "metadata": {},
   "outputs": [],
   "source": [
    "dt_test# Visualizando o dataset para verificar se o tratamento foi feito corretamente\n",
    "dt_test"
   ]
  },
  {
   "cell_type": "markdown",
   "id": "32ba36ff-be40-4e78-9558-c5a0e845ad17",
   "metadata": {},
   "source": [
    "Como os dados variam diariamente é preciso achar uma forma coerente de salvá-los"
   ]
  },
  {
   "cell_type": "code",
   "execution_count": null,
   "id": "a9ba0d5b-dfa5-4b85-98f2-62760fa7600b",
   "metadata": {},
   "outputs": [],
   "source": [
    "# Resgatando a data do sistema para salvar com sua data respectiva de tratamento\n",
    "\n",
    "\n",
    "dia_de_raspagem = datetime.datetime.now().date() # puxando as datas\n",
    "dia_de_raspagem = dia_de_raspagem.strftime(\"_%d_%m_%Y\") # definindo o formatado da data\n",
    "dt_test.to_csv(f\"planilhas/teste{dia_de_raspagem}.csv\", index=False) # exportando como arquivo csv"
   ]
  },
  {
   "cell_type": "markdown",
   "id": "7f4bf612-0985-47a5-b4bb-2bd7bd2122c3",
   "metadata": {},
   "source": [
    "# Etapa 3: Exploração de Algoritmos de Aprendizado de Máquina"
   ]
  },
  {
   "cell_type": "markdown",
   "id": "562d03be-cd1e-44f9-9d77-13ebcbda8bca",
   "metadata": {},
   "source": [
    "# Etapada 4: Avaliação e Interpretação dos Resultados"
   ]
  },
  {
   "cell_type": "code",
   "execution_count": null,
   "id": "e3559eb2-9647-4c6a-8917-b9abffd4ad37",
   "metadata": {},
   "outputs": [],
   "source": []
  }
 ],
 "metadata": {
  "kernelspec": {
   "display_name": "Python 3 (ipykernel)",
   "language": "python",
   "name": "python3"
  },
  "language_info": {
   "codemirror_mode": {
    "name": "ipython",
    "version": 3
   },
   "file_extension": ".py",
   "mimetype": "text/x-python",
   "name": "python",
   "nbconvert_exporter": "python",
   "pygments_lexer": "ipython3",
   "version": "3.9.13"
  }
 },
 "nbformat": 4,
 "nbformat_minor": 5
}
