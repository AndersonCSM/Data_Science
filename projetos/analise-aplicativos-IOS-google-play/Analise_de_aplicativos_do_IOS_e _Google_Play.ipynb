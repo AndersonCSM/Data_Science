{
 "cells": [
  {
   "attachments": {},
   "cell_type": "markdown",
   "metadata": {},
   "source": [
    "# Análise de aplicativos disponíveis na loja IOS e Google Play\n",
    "\n",
    "O projeto desenvolvido é voltado a entender quais são os aplicativos mais usados nas lojas IOS e Google play e como é possível usar essa informação par criação de uma novo APP gratuito, seguindo a lógica de mercado.\n",
    "\n",
    "O objetivo do projeto é realizar toda uma análise de dados através da linguagem Python, desde tratamento a elaboração de gráficos com base no banco de dados de aplicativos disponíveis, transformando essa análise em uma informação tática para o desenvolvimento de um novo app gratuito.\n",
    "\n",
    "Toda a atividade foi desenvolvida para exercitar práticas de ciência de dados oferecida pela plataforma de estudos **Dataquest.io** durante o período do curso de Machine learning ofertado.\n"
   ]
  },
  {
   "attachments": {},
   "cell_type": "markdown",
   "metadata": {},
   "source": [
    "# Explorando os dados\n",
    "\n",
    "A descrição do código segue logo abaixo"
   ]
  },
  {
   "cell_type": "code",
   "execution_count": 1,
   "metadata": {},
   "outputs": [],
   "source": [
    "def open_dataset(file_name=\"\", header_off=False):\n",
    "    \"\"\"\n",
    "    Abre um conjunto de dados a partir de um arquivo CSV.\n",
    "\n",
    "    Args:\n",
    "        file_name (str): O nome do arquivo CSV a ser aberto (opcional).\n",
    "        header_off (bool): Indica se o arquivo CSV possui um cabeçalho que deve ser ignorado (opcional).\n",
    "\n",
    "    Returns:\n",
    "        list: O conjunto de dados como uma lista de listas, em que cada lista interna representa uma linha no arquivo CSV.\n",
    "\n",
    "    Exemplo de uso:\n",
    "        dataset = open_dataset('data.csv', header_off=True)\n",
    "    \"\"\"\n",
    "    from csv import reader\n",
    "\n",
    "    # Abre o arquivo com o nome especificado\n",
    "    open_file = open(file_name, encoding=\"utf8\")\n",
    "\n",
    "    # Lê o arquivo usando o csv.reader\n",
    "    read_file = reader(open_file)\n",
    "\n",
    "    # Verifica se o cabeçalho deve ser ignorado\n",
    "    if header_off:\n",
    "        dataset = list(read_file)[1::]\n",
    "    else:\n",
    "        dataset = list(read_file)\n",
    "\n",
    "    # Retorna o conjunto de dados\n",
    "    return dataset"
   ]
  },
  {
   "attachments": {},
   "cell_type": "markdown",
   "metadata": {},
   "source": [
    "A **função open_dataset** é responsável por abrir um arquivo CSV e retornar seu conteúdo como um conjunto de dados em formato de lista de listas. O argumento **file_name** especifica o nome do arquivo a ser aberto, enquanto o argumento opcional **header_off** indica se o arquivo CSV possui um cabeçalho que deve ser ignorado."
   ]
  },
  {
   "cell_type": "code",
   "execution_count": 2,
   "metadata": {},
   "outputs": [],
   "source": [
    "def explore_data(dataset, start, end, rows_and_columns=False):\n",
    "    \"\"\"\n",
    "    Explora os dados de um conjunto de dados, imprimindo uma fatia específica e, opcionalmente, exibindo o número de linhas e colunas.\n",
    "\n",
    "    Args:\n",
    "        dataset (list): O conjunto de dados a ser explorado.\n",
    "        start (int): O índice inicial da fatia do conjunto de dados a ser impressa.\n",
    "        end (int): O índice final da fatia do conjunto de dados a ser impressa.\n",
    "        rows_and_columns (bool): Indica se o número de linhas e colunas deve ser exibido (opcional).\n",
    "\n",
    "    Exemplo de uso:\n",
    "        explore_data(dataset, 0, 10, rows_and_columns=True)\n",
    "    \"\"\"\n",
    "    dataset_slice = dataset[start:end]\n",
    "\n",
    "    # Itera sobre cada linha da fatia do conjunto de dados\n",
    "    for row in dataset_slice:\n",
    "        print(row)\n",
    "        print(\"\\n\")\n",
    "\n",
    "    # Verifica se o número de linhas e colunas deve ser exibido\n",
    "    if rows_and_columns:\n",
    "        print(\"Número de linhas:\", len(dataset))\n",
    "        print(\"Número de colunas:\", len(dataset[0]))"
   ]
  },
  {
   "attachments": {},
   "cell_type": "markdown",
   "metadata": {},
   "source": [
    "A função explore_data é responsável por explorar um conjunto de dados, imprimindo uma fatia específica e, opcionalmente, exibindo o número de linhas e colunas."
   ]
  },
  {
   "cell_type": "code",
   "execution_count": 3,
   "metadata": {},
   "outputs": [],
   "source": [
    "ios = open_dataset(\"AppleStore.csv\")\n",
    "ios_off = open_dataset(\"AppleStore.csv\", True)\n",
    "ios_header = ios[0]\n",
    "\n",
    "android = open_dataset(\"googleplaystore.csv\")\n",
    "android_off = open_dataset(\"googleplaystore.csv\", True)\n",
    "android_header = android[0]"
   ]
  },
  {
   "attachments": {},
   "cell_type": "markdown",
   "metadata": {},
   "source": [
    "Neste trecho de código Abaixo, são realizadas as operações para abrir e carregar conjuntos de dados de dois arquivos CSV diferentes: \"AppleStore.csv\" e \"googleplaystore.csv\". A função open_dataset é usada para abrir os arquivos e retornar os conjuntos de dados correspondentes, que são armazenados em variáveis como ios e android. Além disso, em algumas chamadas da função open_dataset, o argumento header_off é definido como True, indicando que a primeira linha (cabeçalho) do arquivo CSV deve ser ignorada. Essas variáveis são usadas posteriormente para acessar informações específicas dos conjuntos de dados, como o cabeçalho (ios_header e android_header)."
   ]
  },
  {
   "cell_type": "code",
   "execution_count": 4,
   "metadata": {
    "scrolled": false
   },
   "outputs": [
    {
     "name": "stdout",
     "output_type": "stream",
     "text": [
      "['App', 'Category', 'Rating', 'Reviews', 'Size', 'Installs', 'Type', 'Price', 'Content Rating', 'Genres', 'Last Updated', 'Current Ver', 'Android Ver']\n",
      "\n",
      "\n",
      "['Photo Editor & Candy Camera & Grid & ScrapBook', 'ART_AND_DESIGN', '4.1', '159', '19M', '10,000+', 'Free', '0', 'Everyone', 'Art & Design', 'January 7, 2018', '1.0.0', '4.0.3 and up']\n",
      "\n",
      "\n",
      "['Coloring book moana', 'ART_AND_DESIGN', '3.9', '967', '14M', '500,000+', 'Free', '0', 'Everyone', 'Art & Design;Pretend Play', 'January 15, 2018', '2.0.0', '4.0.3 and up']\n",
      "\n",
      "\n",
      "['U Launcher Lite – FREE Live Cool Themes, Hide Apps', 'ART_AND_DESIGN', '4.7', '87510', '8.7M', '5,000,000+', 'Free', '0', 'Everyone', 'Art & Design', 'August 1, 2018', '1.2.4', '4.0.3 and up']\n",
      "\n",
      "\n",
      "['Sketch - Draw & Paint', 'ART_AND_DESIGN', '4.5', '215644', '25M', '50,000,000+', 'Free', '0', 'Teen', 'Art & Design', 'June 8, 2018', 'Varies with device', '4.2 and up']\n",
      "\n",
      "\n"
     ]
    }
   ],
   "source": [
    "explore_data(android, 0, 5)"
   ]
  },
  {
   "cell_type": "code",
   "execution_count": 5,
   "metadata": {
    "scrolled": false
   },
   "outputs": [
    {
     "name": "stdout",
     "output_type": "stream",
     "text": [
      "['id', 'track_name', 'size_bytes', 'currency', 'price', 'rating_count_tot', 'rating_count_ver', 'user_rating', 'user_rating_ver', 'ver', 'cont_rating', 'prime_genre', 'sup_devices.num', 'ipadSc_urls.num', 'lang.num', 'vpp_lic']\n",
      "\n",
      "\n",
      "['284882215', 'Facebook', '389879808', 'USD', '0.0', '2974676', '212', '3.5', '3.5', '95.0', '4+', 'Social Networking', '37', '1', '29', '1']\n",
      "\n",
      "\n",
      "['389801252', 'Instagram', '113954816', 'USD', '0.0', '2161558', '1289', '4.5', '4.0', '10.23', '12+', 'Photo & Video', '37', '0', '29', '1']\n",
      "\n",
      "\n",
      "['529479190', 'Clash of Clans', '116476928', 'USD', '0.0', '2130805', '579', '4.5', '4.5', '9.24.12', '9+', 'Games', '38', '5', '18', '1']\n",
      "\n",
      "\n",
      "['420009108', 'Temple Run', '65921024', 'USD', '0.0', '1724546', '3842', '4.5', '4.0', '1.6.2', '9+', 'Games', '40', '5', '1', '1']\n",
      "\n",
      "\n"
     ]
    }
   ],
   "source": [
    "explore_data(ios, 0, 5)"
   ]
  },
  {
   "attachments": {},
   "cell_type": "markdown",
   "metadata": {},
   "source": [
    "# Ajuste de anomalia"
   ]
  },
  {
   "attachments": {},
   "cell_type": "markdown",
   "metadata": {},
   "source": [
    "A linha 10472 corresponde ao aplicativo Life Made WI-Fi Touchscreen Photo Frame, e podemos ver que a classificação é 19. Isso está claramente errado, pois a classificação máxima para um aplicativo do Google Play é 5. Como consequência, vamos excluir essa linha."
   ]
  },
  {
   "cell_type": "code",
   "execution_count": 6,
   "metadata": {},
   "outputs": [],
   "source": [
    "del android_off[10472]"
   ]
  },
  {
   "cell_type": "code",
   "execution_count": 7,
   "metadata": {
    "scrolled": true
   },
   "outputs": [
    {
     "name": "stdout",
     "output_type": "stream",
     "text": [
      "10840\n"
     ]
    }
   ],
   "source": [
    "print(len(android_off))"
   ]
  },
  {
   "attachments": {},
   "cell_type": "markdown",
   "metadata": {},
   "source": [
    "# Limpeza de dados - dados duplicados"
   ]
  },
  {
   "attachments": {},
   "cell_type": "markdown",
   "metadata": {},
   "source": [
    "Se você examinar as linhas que imprimimos duas células acima para o aplicativo Instagram, a principal diferença ocorre na quarta posição de cada linha, que corresponde ao número de avaliações. Os números diferentes mostram que os dados foram coletados em momentos diferentes. Podemos usar isso para estabelecer um critério para manter as linhas. Não vamos remover as linhas aleatoriamente, mas sim manter as linhas que têm o maior número de avaliações, porque quanto maior o número de avaliações, mais confiáveis ​​são as classificações."
   ]
  },
  {
   "cell_type": "code",
   "execution_count": 8,
   "metadata": {},
   "outputs": [],
   "source": [
    "def apps_per_qtd_reviews(dataset, font=\"android\"):\n",
    "    \"\"\"\n",
    "    Seleciona os melhores aplicativos com base na quantidade de reviews de um conjunto de dados.\n",
    "\n",
    "    Args:\n",
    "        dataset (list): O conjunto de dados contendo os aplicativos e suas informações.\n",
    "        font (str): A fonte do conjunto de dados. Pode ser \"android\" ou \"ios\". O padrão é \"android\".\n",
    "\n",
    "    Returns:\n",
    "        list: Uma lista contendo os melhores aplicativos com base na quantidade de reviews.\n",
    "\n",
    "    Exemplo de uso:\n",
    "        best_apps = apps_per_qtd_reviews(dataset, font=\"ios\")\n",
    "    \"\"\"\n",
    "\n",
    "    # parte 1: identificando qual dataframe está sendo usado.\n",
    "    if font == \"android\":\n",
    "        name_index = 0\n",
    "        reviews_index = 3\n",
    "    elif font == \"ios\":\n",
    "        name_index = 1\n",
    "        reviews_index = 5\n",
    "\n",
    "    unique_apps_name = []\n",
    "    reviews_max = {}\n",
    "\n",
    "    # Parte 2: Fazendo a seleção dos valores duplicados com base na quantidade de reviews.\n",
    "    for row in dataset:\n",
    "        name = row[name_index]\n",
    "        qtd_reviews = float(row[reviews_index])\n",
    "\n",
    "        if name not in unique_apps_name:\n",
    "            unique_apps_name.append(name)\n",
    "\n",
    "        if name in reviews_max and reviews_max[name] < qtd_reviews:\n",
    "            reviews_max[name] = qtd_reviews\n",
    "        elif name not in reviews_max:\n",
    "            reviews_max[name] = qtd_reviews\n",
    "\n",
    "    # parte 3: fazendo a limpeza de apps duplicados, criando uma nova lista\n",
    "    # com os melhores apps baseados na quantidade de reviews.\n",
    "    dataset_clean = []\n",
    "    checked = []\n",
    "\n",
    "    for rows in dataset:\n",
    "        name = rows[name_index]\n",
    "        qtd_reviews = float(rows[reviews_index])\n",
    "\n",
    "        if (reviews_max[name] == qtd_reviews) and (name not in checked):\n",
    "            dataset_clean.append(rows)\n",
    "            checked.append(name)\n",
    "\n",
    "    return dataset_clean"
   ]
  },
  {
   "attachments": {},
   "cell_type": "markdown",
   "metadata": {},
   "source": [
    "A função **apps_per_qtd_reviews** recebe um conjunto de dados (dataset) e uma fonte (font) como argumentos. A fonte pode ser \"android\" ou \"ios\", indicando qual dataframe está sendo usado."
   ]
  },
  {
   "cell_type": "code",
   "execution_count": 9,
   "metadata": {},
   "outputs": [],
   "source": [
    "android_clean = apps_per_qtd_reviews(android_off, font=\"android\")\n",
    "ios_clean = apps_per_qtd_reviews(ios_off, font=\"ios\")"
   ]
  },
  {
   "cell_type": "code",
   "execution_count": 10,
   "metadata": {},
   "outputs": [
    {
     "name": "stdout",
     "output_type": "stream",
     "text": [
      "['Photo Editor & Candy Camera & Grid & ScrapBook', 'ART_AND_DESIGN', '4.1', '159', '19M', '10,000+', 'Free', '0', 'Everyone', 'Art & Design', 'January 7, 2018', '1.0.0', '4.0.3 and up']\n",
      "\n",
      "\n",
      "['U Launcher Lite – FREE Live Cool Themes, Hide Apps', 'ART_AND_DESIGN', '4.7', '87510', '8.7M', '5,000,000+', 'Free', '0', 'Everyone', 'Art & Design', 'August 1, 2018', '1.2.4', '4.0.3 and up']\n",
      "\n",
      "\n",
      "['Sketch - Draw & Paint', 'ART_AND_DESIGN', '4.5', '215644', '25M', '50,000,000+', 'Free', '0', 'Teen', 'Art & Design', 'June 8, 2018', 'Varies with device', '4.2 and up']\n",
      "\n",
      "\n",
      "['Pixel Draw - Number Art Coloring Book', 'ART_AND_DESIGN', '4.3', '967', '2.8M', '100,000+', 'Free', '0', 'Everyone', 'Art & Design;Creativity', 'June 20, 2018', '1.1', '4.4 and up']\n",
      "\n",
      "\n",
      "['Paper flowers instructions', 'ART_AND_DESIGN', '4.4', '167', '5.6M', '50,000+', 'Free', '0', 'Everyone', 'Art & Design', 'March 26, 2017', '1.0', '2.3 and up']\n",
      "\n",
      "\n"
     ]
    }
   ],
   "source": [
    "explore_data(android_clean, 0, 5)"
   ]
  },
  {
   "cell_type": "code",
   "execution_count": 11,
   "metadata": {},
   "outputs": [
    {
     "name": "stdout",
     "output_type": "stream",
     "text": [
      "['284882215', 'Facebook', '389879808', 'USD', '0.0', '2974676', '212', '3.5', '3.5', '95.0', '4+', 'Social Networking', '37', '1', '29', '1']\n",
      "\n",
      "\n",
      "['389801252', 'Instagram', '113954816', 'USD', '0.0', '2161558', '1289', '4.5', '4.0', '10.23', '12+', 'Photo & Video', '37', '0', '29', '1']\n",
      "\n",
      "\n",
      "['529479190', 'Clash of Clans', '116476928', 'USD', '0.0', '2130805', '579', '4.5', '4.5', '9.24.12', '9+', 'Games', '38', '5', '18', '1']\n",
      "\n",
      "\n",
      "['420009108', 'Temple Run', '65921024', 'USD', '0.0', '1724546', '3842', '4.5', '4.0', '1.6.2', '9+', 'Games', '40', '5', '1', '1']\n",
      "\n",
      "\n",
      "['284035177', 'Pandora - Music & Radio', '130242560', 'USD', '0.0', '1126879', '3594', '4.0', '4.5', '8.4.1', '12+', 'Music', '37', '4', '1', '1']\n",
      "\n",
      "\n"
     ]
    }
   ],
   "source": [
    "explore_data(ios_clean, 0, 5)"
   ]
  },
  {
   "cell_type": "code",
   "execution_count": 12,
   "metadata": {},
   "outputs": [
    {
     "data": {
      "text/plain": [
       "7197"
      ]
     },
     "execution_count": 12,
     "metadata": {},
     "output_type": "execute_result"
    }
   ],
   "source": [
    "len(ios_off)"
   ]
  },
  {
   "cell_type": "code",
   "execution_count": 13,
   "metadata": {},
   "outputs": [
    {
     "data": {
      "text/plain": [
       "9659"
      ]
     },
     "execution_count": 13,
     "metadata": {},
     "output_type": "execute_result"
    }
   ],
   "source": [
    "len(android_clean)"
   ]
  },
  {
   "attachments": {},
   "cell_type": "markdown",
   "metadata": {},
   "source": [
    "# Ajuste de limpeza, aplicativos que não estão em inglês"
   ]
  },
  {
   "attachments": {},
   "cell_type": "markdown",
   "metadata": {},
   "source": [
    "names = [\n",
    "    'Instagram',\n",
    "    '爱奇艺PPS -《欢乐颂2》电视剧热播',\n",
    "    'Docs To Go™ Free Office Suite',\n",
    "    'Instachat 😜'\n",
    "]\n",
    "\n",
    "ok = []\n",
    "\n",
    "\n",
    "for i in names:\n",
    "    ansi = 0\n",
    "    \n",
    "    for l in i:       \n",
    "        if ord(l) > 127:\n",
    "           ansi += 1\n",
    "        \n",
    "    if ansi < 3:\n",
    "        \n",
    "        ok.append(i)\n",
    "print(ok)\n"
   ]
  },
  {
   "attachments": {},
   "cell_type": "markdown",
   "metadata": {},
   "source": [
    "**Foi mais eficiente percorre um range chamando uma função do que percorrer dois ranges**"
   ]
  },
  {
   "cell_type": "code",
   "execution_count": 14,
   "metadata": {},
   "outputs": [],
   "source": [
    "def is_english(txt):\n",
    "    \"\"\"\n",
    "    Verifica se um texto é composto principalmente por caracteres em inglês.\n",
    "\n",
    "    Args:\n",
    "        txt (str): O texto a ser verificado.\n",
    "\n",
    "    Returns:\n",
    "        bool: True se o texto é composto principalmente por caracteres em inglês, False caso contrário.\n",
    "\n",
    "    Exemplo de uso:\n",
    "        is_eng = is_english(\"Hello, world!\")\n",
    "    \"\"\"\n",
    "    non_ascii = 0\n",
    "\n",
    "    for i in txt:\n",
    "        if ord(i) > 127:\n",
    "            non_ascii += 1\n",
    "\n",
    "    if non_ascii > 3:\n",
    "        return False\n",
    "    else:\n",
    "        return True"
   ]
  },
  {
   "attachments": {},
   "cell_type": "markdown",
   "metadata": {},
   "source": [
    "A função **is_english** recebe um texto (txt) como argumento e verifica se ele é composto principalmente por caracteres em inglês."
   ]
  },
  {
   "cell_type": "code",
   "execution_count": 15,
   "metadata": {},
   "outputs": [
    {
     "name": "stdout",
     "output_type": "stream",
     "text": [
      "['Photo Editor & Candy Camera & Grid & ScrapBook', 'ART_AND_DESIGN', '4.1', '159', '19M', '10,000+', 'Free', '0', 'Everyone', 'Art & Design', 'January 7, 2018', '1.0.0', '4.0.3 and up']\n",
      "\n",
      "\n",
      "['U Launcher Lite – FREE Live Cool Themes, Hide Apps', 'ART_AND_DESIGN', '4.7', '87510', '8.7M', '5,000,000+', 'Free', '0', 'Everyone', 'Art & Design', 'August 1, 2018', '1.2.4', '4.0.3 and up']\n",
      "\n",
      "\n",
      "['Sketch - Draw & Paint', 'ART_AND_DESIGN', '4.5', '215644', '25M', '50,000,000+', 'Free', '0', 'Teen', 'Art & Design', 'June 8, 2018', 'Varies with device', '4.2 and up']\n",
      "\n",
      "\n",
      "Número de linhas: 9614\n",
      "Número de colunas: 13\n",
      "\n",
      "\n",
      "['284882215', 'Facebook', '389879808', 'USD', '0.0', '2974676', '212', '3.5', '3.5', '95.0', '4+', 'Social Networking', '37', '1', '29', '1']\n",
      "\n",
      "\n",
      "['389801252', 'Instagram', '113954816', 'USD', '0.0', '2161558', '1289', '4.5', '4.0', '10.23', '12+', 'Photo & Video', '37', '0', '29', '1']\n",
      "\n",
      "\n",
      "['529479190', 'Clash of Clans', '116476928', 'USD', '0.0', '2130805', '579', '4.5', '4.5', '9.24.12', '9+', 'Games', '38', '5', '18', '1']\n",
      "\n",
      "\n",
      "Número de linhas: 6181\n",
      "Número de colunas: 16\n"
     ]
    }
   ],
   "source": [
    "android_english = []\n",
    "ios_english = []\n",
    "\n",
    "# Filtrando os aplicativos em inglês do conjunto de dados android_clean\n",
    "for app in android_clean:\n",
    "    name = app[0]\n",
    "    if is_english(name):\n",
    "        android_english.append(app)\n",
    "\n",
    "# Filtrando os aplicativos em inglês do conjunto de dados ios_clean\n",
    "for app in ios_clean:\n",
    "    name = app[1]\n",
    "    if is_english(name):\n",
    "        ios_english.append(app)\n",
    "\n",
    "# Explorando os primeiros aplicativos do conjunto de dados android_english\n",
    "explore_data(android_english, 0, 3, True)\n",
    "print(\"\\n\")\n",
    "\n",
    "# Explorando os primeiros aplicativos do conjunto de dados ios_english\n",
    "explore_data(ios_english, 0, 3, True)"
   ]
  },
  {
   "cell_type": "code",
   "execution_count": 16,
   "metadata": {},
   "outputs": [
    {
     "name": "stdout",
     "output_type": "stream",
     "text": [
      "8864\n",
      "3220\n"
     ]
    }
   ],
   "source": [
    "android_free = []\n",
    "ios_free = []\n",
    "\n",
    "# Filtrando os aplicativos gratuitos do conjunto de dados android_english\n",
    "for row in android_english:\n",
    "    price = row[7]\n",
    "    if price == \"0\":\n",
    "        android_free.append(row)\n",
    "\n",
    "# Filtrando os aplicativos gratuitos do conjunto de dados ios_english\n",
    "for row in ios_english:\n",
    "    price = float(row[4])\n",
    "    if price == 0:\n",
    "        ios_free.append(row)\n",
    "\n",
    "# Imprimindo o número de aplicativos gratuitos em cada conjunto de dados\n",
    "print(len(android_free))\n",
    "print(len(ios_free))"
   ]
  },
  {
   "cell_type": "code",
   "execution_count": 17,
   "metadata": {},
   "outputs": [],
   "source": [
    "def freq_table(dataset, index):\n",
    "    \"\"\"\n",
    "    Calcula a frequência e a porcentagem de ocorrência de valores em uma coluna específica de um conjunto de dados.\n",
    "\n",
    "    Args:\n",
    "        dataset (list): O conjunto de dados a ser analisado.\n",
    "        index (int): O índice da coluna para calcular a frequência.\n",
    "\n",
    "    Returns:\n",
    "        dict: Um dicionário com os valores como chaves e as porcentagens de ocorrência como valores.\n",
    "\n",
    "    Exemplo de uso:\n",
    "        frequency_table = freq_table(dataset, 2)\n",
    "    \"\"\"\n",
    "    frequency = {}\n",
    "    total = 0\n",
    "\n",
    "    for row in dataset:\n",
    "        value = row[index]\n",
    "\n",
    "        if value in frequency:\n",
    "            frequency[value] += 1\n",
    "        else:\n",
    "            frequency[value] = 1\n",
    "\n",
    "        total += 1\n",
    "\n",
    "    frequency_percentage = {}\n",
    "\n",
    "    for index in frequency:\n",
    "        percent = (frequency[index] / total) * 100\n",
    "        frequency_percentage[index] = percent\n",
    "\n",
    "    return frequency_percentage"
   ]
  },
  {
   "attachments": {},
   "cell_type": "markdown",
   "metadata": {},
   "source": [
    "A função freq_table recebe um conjunto de dados (dataset) e um índice de coluna (index) como argumentos. Ela calcula a frequência e a porcentagem de ocorrência dos valores na coluna especificada."
   ]
  },
  {
   "cell_type": "code",
   "execution_count": 18,
   "metadata": {},
   "outputs": [],
   "source": [
    "def display_table(dataset, index):\n",
    "    \"\"\"\n",
    "    Exibe uma tabela ordenada de forma decrescente com os valores e suas frequências de ocorrência em uma coluna específica do conjunto de dados.\n",
    "\n",
    "    Args:\n",
    "        dataset (list): O conjunto de dados a ser analisado.\n",
    "        index (int): O índice da coluna para exibir a tabela.\n",
    "\n",
    "    Returns:\n",
    "        None\n",
    "\n",
    "    Exemplo de uso:\n",
    "        display_table(dataset, 2)\n",
    "    \"\"\"\n",
    "    table = freq_table(dataset, index)\n",
    "    table_display = []\n",
    "\n",
    "    for key in table:\n",
    "        element = (table[key], key)\n",
    "        table_display.append(element)\n",
    "\n",
    "    table_sorted = sorted(table_display, reverse=True)\n",
    "\n",
    "    for i in table_sorted:\n",
    "        print(f\"{i[1]} : {i[0]}\")"
   ]
  },
  {
   "attachments": {},
   "cell_type": "markdown",
   "metadata": {},
   "source": [
    "A função **display_table** recebe um conjunto de dados (dataset) e um índice de coluna (index) como argumentos. Ela exibe uma tabela ordenada de forma decrescente com os valores e suas frequências de ocorrência na coluna especificada."
   ]
  },
  {
   "cell_type": "code",
   "execution_count": 19,
   "metadata": {},
   "outputs": [
    {
     "name": "stdout",
     "output_type": "stream",
     "text": [
      "Games : 58.13664596273293\n",
      "Entertainment : 7.888198757763975\n",
      "Photo & Video : 4.968944099378882\n",
      "Education : 3.6645962732919255\n",
      "Social Networking : 3.291925465838509\n",
      "Shopping : 2.608695652173913\n",
      "Utilities : 2.515527950310559\n",
      "Sports : 2.142857142857143\n",
      "Music : 2.049689440993789\n",
      "Health & Fitness : 2.018633540372671\n",
      "Productivity : 1.7391304347826086\n",
      "Lifestyle : 1.5838509316770186\n",
      "News : 1.3354037267080745\n",
      "Travel : 1.2422360248447204\n",
      "Finance : 1.1180124223602486\n",
      "Weather : 0.8695652173913043\n",
      "Food & Drink : 0.8074534161490683\n",
      "Reference : 0.5590062111801243\n",
      "Business : 0.5279503105590062\n",
      "Book : 0.43478260869565216\n",
      "Navigation : 0.18633540372670807\n",
      "Medical : 0.18633540372670807\n",
      "Catalogs : 0.12422360248447205\n"
     ]
    }
   ],
   "source": [
    "# Analizando apps gratuito por gênero\n",
    "\n",
    "display_table(ios_free, -5)"
   ]
  },
  {
   "cell_type": "code",
   "execution_count": 20,
   "metadata": {},
   "outputs": [
    {
     "name": "stdout",
     "output_type": "stream",
     "text": [
      "FAMILY : 18.907942238267147\n",
      "GAME : 9.724729241877256\n",
      "TOOLS : 8.461191335740072\n",
      "BUSINESS : 4.591606498194946\n",
      "LIFESTYLE : 3.9034296028880866\n",
      "PRODUCTIVITY : 3.892148014440433\n",
      "FINANCE : 3.7003610108303246\n",
      "MEDICAL : 3.531137184115524\n",
      "SPORTS : 3.395758122743682\n",
      "PERSONALIZATION : 3.3167870036101084\n",
      "COMMUNICATION : 3.2378158844765346\n",
      "HEALTH_AND_FITNESS : 3.0798736462093865\n",
      "PHOTOGRAPHY : 2.944494584837545\n",
      "NEWS_AND_MAGAZINES : 2.7978339350180503\n",
      "SOCIAL : 2.6624548736462095\n",
      "TRAVEL_AND_LOCAL : 2.33528880866426\n",
      "SHOPPING : 2.2450361010830324\n",
      "BOOKS_AND_REFERENCE : 2.1435018050541514\n",
      "DATING : 1.861462093862816\n",
      "VIDEO_PLAYERS : 1.7937725631768955\n",
      "MAPS_AND_NAVIGATION : 1.3989169675090252\n",
      "FOOD_AND_DRINK : 1.2409747292418771\n",
      "EDUCATION : 1.1620036101083033\n",
      "ENTERTAINMENT : 0.9589350180505415\n",
      "LIBRARIES_AND_DEMO : 0.9363718411552346\n",
      "AUTO_AND_VEHICLES : 0.9250902527075812\n",
      "HOUSE_AND_HOME : 0.8235559566787004\n",
      "WEATHER : 0.8009927797833934\n",
      "EVENTS : 0.7107400722021661\n",
      "PARENTING : 0.6543321299638989\n",
      "ART_AND_DESIGN : 0.6430505415162455\n",
      "COMICS : 0.6204873646209386\n",
      "BEAUTY : 0.5979241877256317\n"
     ]
    }
   ],
   "source": [
    "# Analizando apps gratuito por gênero\n",
    "\n",
    "display_table(android_free, 1)"
   ]
  },
  {
   "cell_type": "code",
   "execution_count": 21,
   "metadata": {},
   "outputs": [
    {
     "name": "stdout",
     "output_type": "stream",
     "text": [
      "Social Networking : 71548.34905660378\n",
      "Photo & Video : 28441.54375\n",
      "Games : 22812.92467948718\n",
      "Music : 57326.530303030304\n",
      "Reference : 74942.11111111111\n",
      "Health & Fitness : 23298.015384615384\n",
      "Weather : 52279.892857142855\n",
      "Utilities : 18684.456790123455\n",
      "Travel : 28243.8\n",
      "Shopping : 26919.690476190477\n",
      "News : 21248.023255813954\n",
      "Navigation : 86090.33333333333\n",
      "Lifestyle : 16485.764705882353\n",
      "Entertainment : 14029.830708661417\n",
      "Food & Drink : 33333.92307692308\n",
      "Sports : 23008.898550724636\n",
      "Book : 39758.5\n",
      "Finance : 31467.944444444445\n",
      "Education : 7003.983050847458\n",
      "Productivity : 21028.410714285714\n",
      "Business : 7491.117647058823\n",
      "Catalogs : 4004.0\n",
      "Medical : 612.0\n"
     ]
    }
   ],
   "source": [
    "ios_genres = freq_table(ios_free, -5)\n",
    "\n",
    "for genre in ios_genres:\n",
    "    total = 0\n",
    "    len_genre = 0\n",
    "\n",
    "    for app in ios_free:\n",
    "        genre_app = app[-5]\n",
    "        if genre_app == genre:\n",
    "            n_ratings = float(app[5])\n",
    "            total += n_ratings\n",
    "            len_genre += 1\n",
    "\n",
    "    avg_n_ratings = total / len_genre\n",
    "    print(genre, \":\", avg_n_ratings)"
   ]
  },
  {
   "attachments": {},
   "cell_type": "markdown",
   "metadata": {},
   "source": [
    "Em média, os aplicativos de navegação têm o maior número de avaliações de usuários, mas esse número é fortemente influenciado pelo Waze e pelo Google Maps, que juntos possuem quase meio milhão de avaliações de usuários:"
   ]
  },
  {
   "cell_type": "code",
   "execution_count": 22,
   "metadata": {},
   "outputs": [
    {
     "name": "stdout",
     "output_type": "stream",
     "text": [
      "Waze - GPS Navigation, Maps & Real-time Traffic : 345046\n",
      "Google Maps - Navigation & Transit : 154911\n",
      "Geocaching® : 12811\n",
      "CoPilot GPS – Car Navigation & Offline Maps : 3582\n",
      "ImmobilienScout24: Real Estate Search in Germany : 187\n",
      "Railway Route Search : 5\n"
     ]
    }
   ],
   "source": [
    "for app in ios_free:\n",
    "    if app[-5] == \"Navigation\":\n",
    "        print(app[1], \":\", app[5])  # print name and number of ratings"
   ]
  },
  {
   "attachments": {},
   "cell_type": "markdown",
   "metadata": {},
   "source": [
    "Aqui já obtemos a resposta para nossa pesquisa, com isso concluimos o que pretendiamos com o projeto, além de exercitar bastante prática de ciência de dados.\n",
    "\n",
    "Para comparar o resultado, busque pelo arquivo complementar Mission350Solutions"
   ]
  }
 ],
 "metadata": {
  "kernelspec": {
   "display_name": "Python 3 (ipykernel)",
   "language": "python",
   "name": "python3"
  },
  "language_info": {
   "codemirror_mode": {
    "name": "ipython",
    "version": 3
   },
   "file_extension": ".py",
   "mimetype": "text/x-python",
   "name": "python",
   "nbconvert_exporter": "python",
   "pygments_lexer": "ipython3",
   "version": "3.10.11"
  }
 },
 "nbformat": 4,
 "nbformat_minor": 2
}
