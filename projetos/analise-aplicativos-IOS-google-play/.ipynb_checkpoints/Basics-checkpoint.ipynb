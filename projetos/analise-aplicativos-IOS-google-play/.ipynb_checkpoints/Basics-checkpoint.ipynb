{
 "cells": [
  {
   "cell_type": "markdown",
   "metadata": {},
   "source": [
    "# Análise de aplicativos disponíveis na loja IOS e Google Play\n",
    "O projeto desenvolvido é voltado a entender quais são os aplicativos mais usados nas lojas IOS e Google play e como é possível usar essa informação par criação de uma novo APP, seguindo a lógica de mercado.\n",
    "\n",
    "O objetivo do projeto é realizar toda uma análise de dados através da linguagem Python, desde tratamento a elaboração de gráficos com base no banco de dados de aplicativos disponíveis, transformando essa análise em uma informação tática para o desenvolvimento de um novo app.\n"
   ]
  },
  {
   "cell_type": "code",
   "execution_count": 1,
   "metadata": {},
   "outputs": [],
   "source": [
    "def explore_data(dataset, start, end, rows_and_columns=False):\n",
    "    dataset_slice = dataset[start:end]\n",
    "    for row in dataset_slice:\n",
    "        print(row)\n",
    "        print(\"\\n\")\n",
    "    if rows_and_columns:\n",
    "        print('Number of rows:', len(dataset))\n",
    "        print('Number of columns:', len(dataset[0]))\n"
   ]
  },
  {
   "cell_type": "code",
   "execution_count": null,
   "metadata": {},
   "outputs": [],
   "source": []
  }
 ],
 "metadata": {
  "kernelspec": {
   "display_name": "Python 3 (ipykernel)",
   "language": "python",
   "name": "python3"
  },
  "language_info": {
   "codemirror_mode": {
    "name": "ipython",
    "version": 3
   },
   "file_extension": ".py",
   "mimetype": "text/x-python",
   "name": "python",
   "nbconvert_exporter": "python",
   "pygments_lexer": "ipython3",
   "version": "3.9.12"
  }
 },
 "nbformat": 4,
 "nbformat_minor": 2
}
