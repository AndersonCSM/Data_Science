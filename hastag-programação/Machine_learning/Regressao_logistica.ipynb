{
 "cells": [
  {
   "attachments": {},
   "cell_type": "markdown",
   "metadata": {},
   "source": [
    "# Regressão Logística\n",
    "\n",
    "- É um modelo linear para **classificação** baseada na equação:\n",
    "\n",
    "$$ y(s)=\\frac{e^{s}}{{1+e^{s}}}$$\n",
    "\n",
    "- Na regressão logística, ao invés de determinar um valor binário(0, 1) ele retorna um probabilidade de um evento ocorrer.\n",
    "    - Por calcular as probabilidades de um evento, o modelo é bastante usado na classificação de credito, previsão de saída de clientes e até para prever a probabilidade de doenças."
   ]
  },
  {
   "cell_type": "code",
   "execution_count": 1,
   "metadata": {},
   "outputs": [],
   "source": [
    "# Realizando as importações necessárias\n",
    "import pandas as pd\n",
    "import matplotlib.pyplot as plt\n",
    "from sklearn.datasets import load_iris\n",
    "from sklearn.model_selection import train_test_split"
   ]
  },
  {
   "cell_type": "code",
   "execution_count": 3,
   "metadata": {},
   "outputs": [],
   "source": [
    "# Carregando os dados como dataset\n",
    "\n",
    "x, y = load_iris(return_X_y=True, as_frame=True)"
   ]
  },
  {
   "cell_type": "code",
   "execution_count": 4,
   "metadata": {},
   "outputs": [],
   "source": [
    "# Considerando apenas a coluna \"petal width (cm)\" e os target 0 e 1\n",
    "X = x.loc[y.isin([0, 1]), \"petal width (cm)\"].values\n",
    "y = y[y.isin([0, 1])].values"
   ]
  },
  {
   "cell_type": "code",
   "execution_count": 7,
   "metadata": {},
   "outputs": [],
   "source": [
    "# Preparando os conjuntos de treino e teste\n",
    "X_train, X_test, y_train, y_test = train_test_split(\n",
    "    X, y, test_size=0.33, random_state=42\n",
    ")"
   ]
  },
  {
   "cell_type": "code",
   "execution_count": 8,
   "metadata": {},
   "outputs": [
    {
     "data": {
      "image/png": "[encoded data removed]",
      "text/plain": [
       "<Figure size 640x480 with 1 Axes>"
      ]
     },
     "metadata": {},
     "output_type": "display_data"
    }
   ],
   "source": [
    "# Visualizando os pontos\n",
    "fig, ax = plt.subplots()\n",
    "\n",
    "ax.scatter(X_train, y_train)\n",
    "\n",
    "ax.set(yticks=[0, 1], xticks=[0, 0.3, 0.6, 0.9, 1.2, 1.5])\n",
    "\n",
    "plt.show()"
   ]
  },
  {
   "cell_type": "code",
   "execution_count": 10,
   "metadata": {},
   "outputs": [],
   "source": [
    "# Importando o classificador\n",
    "from sklearn.linear_model import LogisticRegression\n",
    "\n",
    "# Atribuindo o classificador e realizando o treino\n",
    "clf = LogisticRegression(random_state=0).fit(X_train.reshape(-1, 1), y_train)"
   ]
  },
  {
   "cell_type": "code",
   "execution_count": 11,
   "metadata": {},
   "outputs": [
    {
     "data": {
      "text/plain": [
       "array([[3.85103613]])"
      ]
     },
     "execution_count": 11,
     "metadata": {},
     "output_type": "execute_result"
    }
   ],
   "source": [
    "# Verificando  o coeficiente angular\n",
    "clf.coef_"
   ]
  },
  {
   "cell_type": "code",
   "execution_count": 12,
   "metadata": {},
   "outputs": [
    {
     "data": {
      "text/plain": [
       "array([-2.8324819])"
      ]
     },
     "execution_count": 12,
     "metadata": {},
     "output_type": "execute_result"
    }
   ],
   "source": [
    "# Verificando o coeficiente linear\n",
    "clf.intercept_"
   ]
  },
  {
   "cell_type": "code",
   "execution_count": 14,
   "metadata": {},
   "outputs": [],
   "source": [
    "# Gerando pontos para a curva do gráfico\n",
    "import numpy as np\n",
    "\n",
    "lista_x = np.linspace(X_train.min(), X_train.max(), 100)"
   ]
  },
  {
   "cell_type": "code",
   "execution_count": 17,
   "metadata": {},
   "outputs": [],
   "source": [
    "# Reelembrando que devido a regressão, a nossa expresão é\n",
    "# ax = b, onde\n",
    "# a = clf.coef_\n",
    "# b = clf.intercept_\n",
    "y_no_log = clf.coef_[0][0] * lista_x + clf.intercept_[0]"
   ]
  },
  {
   "cell_type": "code",
   "execution_count": 18,
   "metadata": {},
   "outputs": [],
   "source": [
    "# Usando a função logística\n",
    "from scipy.special import expit\n",
    "\n",
    "lista_y = expit(y_no_log)"
   ]
  },
  {
   "cell_type": "code",
   "execution_count": 19,
   "metadata": {},
   "outputs": [
    {
     "data": {
      "image/png": "[encoded data removed]",
      "text/plain": [
       "<Figure size 640x480 with 1 Axes>"
      ]
     },
     "metadata": {},
     "output_type": "display_data"
    }
   ],
   "source": [
    "# Visualizando os pontos\n",
    "fig, ax = plt.subplots()\n",
    "\n",
    "ax.scatter(X_train, y_train)\n",
    "ax.plot(lista_x, lista_y)\n",
    "\n",
    "ax.set(yticks=[0, 1], xticks=[0, 0.3, 0.6, 0.9, 1.2, 1.5])\n",
    "\n",
    "plt.show()"
   ]
  },
  {
   "cell_type": "code",
   "execution_count": 24,
   "metadata": {},
   "outputs": [
    {
     "data": {
      "text/plain": [
       "array([[0.88718204, 0.11281796],\n",
       "       [0.26530911, 0.73469089],\n",
       "       [0.78449692, 0.21550308],\n",
       "       [0.05001742, 0.94998258],\n",
       "       [0.07182627, 0.92817373]])"
      ]
     },
     "execution_count": 24,
     "metadata": {},
     "output_type": "execute_result"
    }
   ],
   "source": [
    "# Fazendo a previsão de probabilidades\n",
    "clf.predict_proba(X_train.reshape(-1, 1))[:5]"
   ]
  },
  {
   "cell_type": "code",
   "execution_count": 25,
   "metadata": {},
   "outputs": [
    {
     "data": {
      "text/plain": [
       "array([[0.03458373, 0.96541627],\n",
       "       [0.10212209, 0.89787791],\n",
       "       [0.01631239, 0.98368761],\n",
       "       [0.84252957, 0.15747043],\n",
       "       [0.78449692, 0.21550308]])"
      ]
     },
     "execution_count": 25,
     "metadata": {},
     "output_type": "execute_result"
    }
   ],
   "source": [
    "# Verificando a previsão de probabilidades para o conjunto de treino\n",
    "clf.predict_proba(X_test.reshape(-1, 1))[:5]"
   ]
  },
  {
   "cell_type": "code",
   "execution_count": 26,
   "metadata": {},
   "outputs": [],
   "source": [
    "y_pred = clf.predict_proba(X_test.reshape(-1, 1))"
   ]
  },
  {
   "cell_type": "code",
   "execution_count": 27,
   "metadata": {},
   "outputs": [
    {
     "data": {
      "image/png": "[encoded data removed]",
      "text/plain": [
       "<Figure size 640x480 with 1 Axes>"
      ]
     },
     "metadata": {},
     "output_type": "display_data"
    }
   ],
   "source": [
    "# Visualizando os pontos\n",
    "fig, ax = plt.subplots()\n",
    "\n",
    "ax.scatter(X_train, y_train)\n",
    "ax.plot(lista_x, lista_y)\n",
    "ax.scatter(X_test, y_pred[:, 1])\n",
    "\n",
    "ax.set(yticks=[0, 1], xticks=[0, 0.3, 0.6, 0.9, 1.2, 1.5])\n",
    "\n",
    "plt.show()"
   ]
  },
  {
   "cell_type": "code",
   "execution_count": 29,
   "metadata": {},
   "outputs": [
    {
     "data": {
      "text/plain": [
       "array([[19,  0],\n",
       "       [ 0, 14]], dtype=int64)"
      ]
     },
     "execution_count": 29,
     "metadata": {},
     "output_type": "execute_result"
    }
   ],
   "source": [
    "# Avaliando o erro do modelo\n",
    "y_pred_val = clf.predict(X_test.reshape(-1, 1))\n",
    "\n",
    "from sklearn.metrics import confusion_matrix\n",
    "\n",
    "confusion_matrix(y_test, y_pred_val)"
   ]
  },
  {
   "attachments": {},
   "cell_type": "markdown",
   "metadata": {},
   "source": [
    "# Usando o algoritmo para todas as colunas"
   ]
  },
  {
   "cell_type": "code",
   "execution_count": 32,
   "metadata": {},
   "outputs": [],
   "source": [
    "# Carregando os dados como dataset\n",
    "X, y = load_iris(return_X_y=True, as_frame=True)\n",
    "\n",
    "# Preparando os conjuntos de treino e teste\n",
    "X_train, X_test, y_train, y_test = train_test_split(\n",
    "    X, y, test_size=0.33, random_state=42\n",
    ")\n",
    "\n",
    "# Atribuindo o classificador e realizando o treino\n",
    "clf2 = LogisticRegression(random_state=0, max_iter=1000).fit(X_train, y_train)"
   ]
  },
  {
   "cell_type": "code",
   "execution_count": 36,
   "metadata": {},
   "outputs": [
    {
     "data": {
      "text/plain": [
       "array([[-0.3899349 ,  0.85590099, -2.24402166, -0.95265913],\n",
       "       [ 0.43967683, -0.36126614, -0.12427755, -0.77235752],\n",
       "       [-0.04974193, -0.49463485,  2.36829921,  1.72501665]])"
      ]
     },
     "execution_count": 36,
     "metadata": {},
     "output_type": "execute_result"
    }
   ],
   "source": [
    "# Verificando os coeficientes\n",
    "clf2.coef_"
   ]
  },
  {
   "cell_type": "code",
   "execution_count": 37,
   "metadata": {},
   "outputs": [
    {
     "data": {
      "text/plain": [
       "array([  8.692327  ,   2.11633322, -10.80866022])"
      ]
     },
     "execution_count": 37,
     "metadata": {},
     "output_type": "execute_result"
    }
   ],
   "source": [
    "# Verificando os coeficientes lineares\n",
    "clf2.intercept_"
   ]
  },
  {
   "cell_type": "code",
   "execution_count": 38,
   "metadata": {},
   "outputs": [],
   "source": [
    "# Fazendo uma previsão\n",
    "y_pred2 = clf2.predict(X_test)"
   ]
  },
  {
   "cell_type": "code",
   "execution_count": 41,
   "metadata": {},
   "outputs": [
    {
     "data": {
      "text/plain": [
       "array([[19,  0,  0],\n",
       "       [ 0, 15,  0],\n",
       "       [ 0,  0, 16]], dtype=int64)"
      ]
     },
     "execution_count": 41,
     "metadata": {},
     "output_type": "execute_result"
    }
   ],
   "source": [
    "# Avaliando o erro\n",
    "confusion_matrix(y_test, y_pred2)"
   ]
  }
 ],
 "metadata": {
  "kernelspec": {
   "display_name": "Python 3",
   "language": "python",
   "name": "python3"
  },
  "language_info": {
   "codemirror_mode": {
    "name": "ipython",
    "version": 3
   },
   "file_extension": ".py",
   "mimetype": "text/x-python",
   "name": "python",
   "nbconvert_exporter": "python",
   "pygments_lexer": "ipython3",
   "version": "3.10.11"
  },
  "orig_nbformat": 4
 },
 "nbformat": 4,
 "nbformat_minor": 2
}
